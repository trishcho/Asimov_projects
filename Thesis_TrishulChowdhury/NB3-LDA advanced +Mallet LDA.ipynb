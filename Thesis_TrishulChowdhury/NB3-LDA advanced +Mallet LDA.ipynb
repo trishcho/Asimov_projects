{
 "cells": [
  {
   "cell_type": "markdown",
   "metadata": {},
   "source": [
    "Researcher - TRISHUL CHOWDHURY"
   ]
  },
  {
   "cell_type": "code",
   "execution_count": null,
   "metadata": {},
   "outputs": [],
   "source": [
    "import nltk; nltk.download('stopwords')"
   ]
  },
  {
   "cell_type": "code",
   "execution_count": 16,
   "metadata": {},
   "outputs": [],
   "source": [
    "import stop_words"
   ]
  },
  {
   "cell_type": "code",
   "execution_count": 3,
   "metadata": {},
   "outputs": [],
   "source": [
    "import re\n",
    "import numpy as np\n",
    "import pandas as pd\n",
    "from pprint import pprint\n",
    "\n",
    "# Gensim\n",
    "import gensim\n",
    "import gensim.corpora as corpora\n",
    "from gensim.utils import simple_preprocess\n",
    "from gensim.models import CoherenceModel\n",
    "\n",
    "# spacy for lemmatization\n",
    "import spacy\n",
    "\n",
    "# Plotting tools\n",
    "import pyLDAvis\n",
    "import pyLDAvis.gensim  # don't skip this\n",
    "import matplotlib.pyplot as plt\n",
    "%matplotlib inline\n",
    "\n",
    "# Enable logging for gensim - optional\n",
    "import logging\n",
    "logging.basicConfig(format='%(asctime)s : %(levelname)s : %(message)s', level=logging.ERROR)\n",
    "\n",
    "import warnings\n",
    "warnings.filterwarnings(\"ignore\",category=DeprecationWarning)"
   ]
  },
  {
   "cell_type": "code",
   "execution_count": 19,
   "metadata": {},
   "outputs": [],
   "source": [
    "from nltk.corpus import stopwords\n",
    "stop_words = stopwords.words('english')\n",
    "stop_words.extend(['from', 'subject', 're', 'edu', 'use'])"
   ]
  },
  {
   "cell_type": "code",
   "execution_count": 5,
   "metadata": {},
   "outputs": [
    {
     "name": "stderr",
     "output_type": "stream",
     "text": [
      "C:\\Users\\Trishul Chowdhury\\anaconda3\\envs\\tensorflow\\lib\\site-packages\\IPython\\core\\interactiveshell.py:3147: DtypeWarning: Columns (1,10) have mixed types.Specify dtype option on import or set low_memory=False.\n",
      "  interactivity=interactivity, compiler=compiler, result=result)\n"
     ]
    }
   ],
   "source": [
    "import pandas as pd\n",
    "df = pd.read_csv('amazon_200.csv')"
   ]
  },
  {
   "cell_type": "code",
   "execution_count": 6,
   "metadata": {},
   "outputs": [
    {
     "data": {
      "text/plain": [
       "Index(['id', 'name', 'asins', 'brand', 'categories', 'keys', 'manufacturer',\n",
       "       'reviews.date', 'reviews.dateAdded', 'reviews.dateSeen',\n",
       "       'reviews.didPurchase', 'reviews.doRecommend', 'reviews.id',\n",
       "       'reviews.numHelpful', 'reviews.rating', 'reviews.sourceURLs',\n",
       "       'reviews.text', 'reviews.title', 'reviews.userCity',\n",
       "       'reviews.userProvince', 'reviews.username'],\n",
       "      dtype='object')"
      ]
     },
     "execution_count": 6,
     "metadata": {},
     "output_type": "execute_result"
    }
   ],
   "source": [
    "df.columns"
   ]
  },
  {
   "cell_type": "code",
   "execution_count": 8,
   "metadata": {},
   "outputs": [],
   "source": [
    "df[\"reviews.text\"]=df[\"reviews.text\"].astype(str)"
   ]
  },
  {
   "cell_type": "code",
   "execution_count": 9,
   "metadata": {},
   "outputs": [
    {
     "name": "stdout",
     "output_type": "stream",
     "text": [
      "['This product so far has not disappointed. My children love to use it and I '\n",
      " 'like the ability to monitor control what content they see with ease.']\n"
     ]
    }
   ],
   "source": [
    "# Convert to list\n",
    "data = df[\"reviews.text\"].values.tolist()\n",
    "\n",
    "# Remove Emails\n",
    "data = [re.sub('\\S*@\\S*\\s?', '', sent) for sent in data]\n",
    "\n",
    "# Remove new line characters\n",
    "data = [re.sub('\\s+', ' ', sent) for sent in data]\n",
    "\n",
    "# Remove distracting single quotes\n",
    "data = [re.sub(\"\\'\", \"\", sent) for sent in data]\n",
    "\n",
    "pprint(data[:1])"
   ]
  },
  {
   "cell_type": "code",
   "execution_count": 14,
   "metadata": {},
   "outputs": [],
   "source": [
    "## Tokenize words and Clean-up text"
   ]
  },
  {
   "cell_type": "code",
   "execution_count": 10,
   "metadata": {},
   "outputs": [
    {
     "name": "stdout",
     "output_type": "stream",
     "text": [
      "[['this', 'product', 'so', 'far', 'has', 'not', 'disappointed', 'my', 'children', 'love', 'to', 'use', 'it', 'and', 'like', 'the', 'ability', 'to', 'monitor', 'control', 'what', 'content', 'they', 'see', 'with', 'ease']]\n"
     ]
    }
   ],
   "source": [
    "def sent_to_words(sentences):\n",
    "    for sentence in sentences:\n",
    "        yield(gensim.utils.simple_preprocess(str(sentence), deacc=True))  # deacc=True removes punctuations\n",
    "\n",
    "data_words = list(sent_to_words(data))\n",
    "\n",
    "print(data_words[:1])"
   ]
  },
  {
   "cell_type": "code",
   "execution_count": 16,
   "metadata": {},
   "outputs": [],
   "source": [
    "# Creating Bigram and Trigram Models\n",
    "# Bigrams are two words frequently occurring together in the document. Trigrams are 3 words frequently occurring."
   ]
  },
  {
   "cell_type": "code",
   "execution_count": 11,
   "metadata": {},
   "outputs": [
    {
     "name": "stdout",
     "output_type": "stream",
     "text": [
      "['this', 'product', 'so', 'far', 'has', 'not', 'disappointed', 'my', 'children', 'love', 'to', 'use', 'it', 'and', 'like', 'the', 'ability', 'to', 'monitor', 'control', 'what', 'content', 'they', 'see', 'with', 'ease']\n"
     ]
    }
   ],
   "source": [
    "# Build the bigram and trigram models\n",
    "bigram = gensim.models.Phrases(data_words, min_count=5, threshold=100) # higher threshold fewer phrases.\n",
    "trigram = gensim.models.Phrases(bigram[data_words], threshold=100)  \n",
    "\n",
    "# Faster way to get a sentence clubbed as a trigram/bigram\n",
    "bigram_mod = gensim.models.phrases.Phraser(bigram)\n",
    "trigram_mod = gensim.models.phrases.Phraser(trigram)\n",
    "\n",
    "# See trigram example\n",
    "print(trigram_mod[bigram_mod[data_words[0]]])"
   ]
  },
  {
   "cell_type": "code",
   "execution_count": 18,
   "metadata": {},
   "outputs": [],
   "source": [
    "#Remove Stopwords, Make Bigrams and Lemmatize"
   ]
  },
  {
   "cell_type": "code",
   "execution_count": 12,
   "metadata": {},
   "outputs": [],
   "source": [
    "def remove_stopwords(texts):\n",
    "    return [[word for word in simple_preprocess(str(doc)) if word not in stop_words] for doc in texts]\n",
    "\n",
    "def make_bigrams(texts):\n",
    "    return [bigram_mod[doc] for doc in texts]\n",
    "\n",
    "def make_trigrams(texts):\n",
    "    return [trigram_mod[bigram_mod[doc]] for doc in texts]\n",
    "\n",
    "def lemmatization(texts, allowed_postags=['NOUN', 'ADJ', 'VERB', 'ADV']):\n",
    "    \"\"\"https://spacy.io/api/annotation\"\"\"\n",
    "    texts_out = []\n",
    "    for sent in texts:\n",
    "        doc = nlp(\" \".join(sent)) \n",
    "        texts_out.append([token.lemma_ for token in doc if token.pos_ in allowed_postags])\n",
    "    return texts_out"
   ]
  },
  {
   "cell_type": "code",
   "execution_count": 13,
   "metadata": {},
   "outputs": [],
   "source": [
    "import en_core_web_sm\n",
    "nlp = en_core_web_sm.load(disable=['parser', 'ner'])"
   ]
  },
  {
   "cell_type": "code",
   "execution_count": 20,
   "metadata": {},
   "outputs": [
    {
     "name": "stdout",
     "output_type": "stream",
     "text": [
      "[['product', 'far', 'disappointed', 'child', 'love', 'ability', 'monitor', 'control', 'content', 'see', 'ease']]\n"
     ]
    }
   ],
   "source": [
    "# Remove Stop Words\n",
    "data_words_nostops = remove_stopwords(data_words)\n",
    "\n",
    "# Form Bigrams\n",
    "data_words_bigrams = make_bigrams(data_words_nostops)\n",
    "\n",
    "# Initialize spacy 'en' model, keeping only tagger component (for efficiency)\n",
    "# python3 -m spacy download en\n",
    "#nlp = spacy.load('en', disable=['parser', 'ner'])\n",
    "\n",
    "# Do lemmatization keeping only noun, adj, vb, adv\n",
    "data_lemmatized = lemmatization(data_words_bigrams, allowed_postags=['NOUN', 'ADJ', 'VERB', 'ADV'])\n",
    "\n",
    "print(data_lemmatized[:1])"
   ]
  },
  {
   "cell_type": "code",
   "execution_count": null,
   "metadata": {},
   "outputs": [],
   "source": [
    "#Create the Dictionary and Corpus needed for Topic Modeling"
   ]
  },
  {
   "cell_type": "code",
   "execution_count": 21,
   "metadata": {},
   "outputs": [],
   "source": [
    "id2word = corpora.Dictionary(data_lemmatized)"
   ]
  },
  {
   "cell_type": "code",
   "execution_count": 32,
   "metadata": {},
   "outputs": [
    {
     "data": {
      "text/plain": [
       "{0: 'ability',\n",
       " 1: 'child',\n",
       " 2: 'content',\n",
       " 3: 'control',\n",
       " 4: 'disappointed',\n",
       " 5: 'ease',\n",
       " 6: 'far',\n",
       " 7: 'love',\n",
       " 8: 'monitor',\n",
       " 9: 'product'}"
      ]
     },
     "execution_count": 32,
     "metadata": {},
     "output_type": "execute_result"
    }
   ],
   "source": [
    "dict(list(id2word.items())[0:10])"
   ]
  },
  {
   "cell_type": "code",
   "execution_count": 24,
   "metadata": {},
   "outputs": [
    {
     "data": {
      "text/plain": [
       "'ability'"
      ]
     },
     "execution_count": 24,
     "metadata": {},
     "output_type": "execute_result"
    }
   ],
   "source": [
    "id2word[0]"
   ]
  },
  {
   "cell_type": "code",
   "execution_count": 25,
   "metadata": {},
   "outputs": [
    {
     "data": {
      "text/plain": [
       "[[('ability', 1),\n",
       "  ('child', 1),\n",
       "  ('content', 1),\n",
       "  ('control', 1),\n",
       "  ('disappointed', 1),\n",
       "  ('ease', 1),\n",
       "  ('far', 1),\n",
       "  ('love', 1),\n",
       "  ('monitor', 1),\n",
       "  ('product', 1),\n",
       "  ('see', 1)]]"
      ]
     },
     "execution_count": 25,
     "metadata": {},
     "output_type": "execute_result"
    }
   ],
   "source": [
    "# Human readable format of corpus (term-frequency)\n",
    "[[(id2word[id], freq) for id, freq in cp] for cp in corpus[:1]]"
   ]
  },
  {
   "cell_type": "code",
   "execution_count": 26,
   "metadata": {},
   "outputs": [],
   "source": [
    "# Building the Topic Model"
   ]
  },
  {
   "cell_type": "code",
   "execution_count": 27,
   "metadata": {},
   "outputs": [],
   "source": [
    "# Build LDA model\n",
    "lda_model = gensim.models.ldamodel.LdaModel(corpus=corpus,\n",
    "                                           id2word=id2word,\n",
    "                                           num_topics=20, \n",
    "                                           random_state=100,\n",
    "                                           update_every=1,\n",
    "                                           chunksize=100,\n",
    "                                           passes=10,\n",
    "                                           alpha='auto',\n",
    "                                           per_word_topics=True)"
   ]
  },
  {
   "cell_type": "code",
   "execution_count": 28,
   "metadata": {},
   "outputs": [],
   "source": [
    "# View the topics in LDA model"
   ]
  },
  {
   "cell_type": "code",
   "execution_count": 29,
   "metadata": {},
   "outputs": [
    {
     "name": "stdout",
     "output_type": "stream",
     "text": [
      "[(0,\n",
      "  '0.257*\"need\" + 0.220*\"make\" + 0.068*\"memory\" + 0.060*\"enough\" + '\n",
      "  '0.053*\"sure\" + 0.051*\"help\" + 0.046*\"may\" + 0.045*\"fact\" + 0.042*\"cheap\" + '\n",
      "  '0.026*\"thank\"'),\n",
      " (1,\n",
      "  '0.260*\"set\" + 0.207*\"content\" + 0.110*\"access\" + 0.107*\"allow\" + '\n",
      "  '0.048*\"kid\" + 0.045*\"spend\" + 0.035*\"instal\" + 0.026*\"travel\" + '\n",
      "  '0.023*\"plan\" + 0.015*\"limit\"'),\n",
      " (2,\n",
      "  '0.537*\"good\" + 0.104*\"money\" + 0.096*\"worth\" + 0.089*\"internet\" + '\n",
      "  '0.089*\"nice\" + 0.048*\"small\" + 0.000*\"surfing\" + 0.000*\"cable\" + '\n",
      "  '0.000*\"box\" + 0.000*\"stick\"'),\n",
      " (3,\n",
      "  '0.264*\"great\" + 0.179*\"work\" + 0.151*\"well\" + 0.092*\"would\" + '\n",
      "  '0.074*\"recommend\" + 0.045*\"price\" + 0.034*\"look\" + 0.033*\"little\" + '\n",
      "  '0.032*\"say\" + 0.020*\"definitely\"'),\n",
      " (4,\n",
      "  '0.113*\"way\" + 0.112*\"find\" + 0.102*\"far\" + 0.086*\"take\" + 0.074*\"control\" + '\n",
      "  '0.062*\"old\" + 0.054*\"never\" + 0.053*\"year\" + 0.051*\"perfect\" + '\n",
      "  '0.047*\"seem\"'),\n",
      " (5,\n",
      "  '0.236*\"lot\" + 0.117*\"speed\" + 0.093*\"sound\" + 0.086*\"always\" + 0.049*\"hard\" '\n",
      "  '+ 0.043*\"speaker\" + 0.042*\"fine\" + 0.042*\"full\" + 0.040*\"reason\" + '\n",
      "  '0.035*\"simply\"'),\n",
      " (6,\n",
      "  '0.380*\"app\" + 0.071*\"available\" + 0.068*\"can\" + 0.052*\"android\" + '\n",
      "  '0.048*\"download\" + 0.043*\"pretty\" + 0.041*\"load\" + 0.038*\"navigate\" + '\n",
      "  '0.033*\"choose\" + 0.033*\"expect\"'),\n",
      " (7,\n",
      "  '0.202*\"device\" + 0.078*\"really\" + 0.067*\"even\" + 0.054*\"have\" + '\n",
      "  '0.053*\"prime\" + 0.048*\"issue\" + 0.044*\"awesome\" + 0.040*\"first\" + '\n",
      "  '0.039*\"back\" + 0.029*\"install\"'),\n",
      " (8,\n",
      "  '0.356*\"get\" + 0.281*\"purchase\" + 0.120*\"could\" + 0.107*\"option\" + '\n",
      "  '0.084*\"happy\" + 0.011*\"son\" + 0.005*\"durable\" + 0.000*\"cable\" + 0.000*\"box\" '\n",
      "  '+ 0.000*\"stick\"'),\n",
      " (9,\n",
      "  '0.207*\"love\" + 0.175*\"buy\" + 0.105*\"use\" + 0.099*\"also\" + 0.073*\"be\" + '\n",
      "  '0.069*\"time\" + 0.041*\"enjoy\" + 0.032*\"see\" + 0.032*\"know\" + 0.025*\"day\"'),\n",
      " (10,\n",
      "  '0.131*\"many\" + 0.105*\"able\" + 0.094*\"problem\" + 0.083*\"family\" + '\n",
      "  '0.082*\"member\" + 0.073*\"simple\" + 0.048*\"especially\" + 0.038*\"processor\" + '\n",
      "  '0.038*\"ability\" + 0.030*\"deal\"'),\n",
      " (11,\n",
      "  '0.387*\"thing\" + 0.129*\"screen\" + 0.111*\"big\" + 0.100*\"right\" + 0.070*\"sale\" '\n",
      "  '+ 0.047*\"bad\" + 0.027*\"reading\" + 0.023*\"present\" + 0.010*\"flexibility\" + '\n",
      "  '0.006*\"surf\"'),\n",
      " (12,\n",
      "  '0.560*\"tv\" + 0.113*\"show\" + 0.057*\"video\" + 0.057*\"give\" + 0.052*\"music\" + '\n",
      "  '0.036*\"keep\" + 0.032*\"offer\" + 0.013*\"gift\" + 0.012*\"listen\" + 0.011*\"fun\"'),\n",
      " (13,\n",
      "  '0.279*\"want\" + 0.126*\"come\" + 0.096*\"think\" + 0.052*\"people\" + 0.047*\"wish\" '\n",
      "  '+ 0.043*\"easily\" + 0.041*\"cost\" + 0.041*\"user\" + 0.037*\"capability\" + '\n",
      "  '0.028*\"additional\"'),\n",
      " (14,\n",
      "  '0.552*\"fire\" + 0.304*\"fast\" + 0.062*\"run\" + 0.049*\"amazing\" + 0.006*\"hd\" + '\n",
      "  '0.000*\"stick\" + 0.000*\"cable\" + 0.000*\"box\" + 0.000*\"remote\" + '\n",
      "  '0.000*\"streaming\"'),\n",
      " (15,\n",
      "  '0.260*\"much\" + 0.112*\"kindle\" + 0.093*\"still\" + 0.090*\"new\" + '\n",
      "  '0.047*\"charge\" + 0.041*\"one\" + 0.037*\"however\" + 0.037*\"version\" + '\n",
      "  '0.032*\"model\" + 0.030*\"second\"'),\n",
      " (16,\n",
      "  '0.335*\"movie\" + 0.324*\"watch\" + 0.125*\"play\" + 0.099*\"game\" + 0.060*\"read\" '\n",
      "  '+ 0.015*\"book\" + 0.002*\"reader\" + 0.000*\"cable\" + 0.000*\"box\" + '\n",
      "  '0.000*\"stick\"'),\n",
      " (17,\n",
      "  '0.484*\"easy\" + 0.129*\"quality\" + 0.086*\"picture\" + 0.082*\"setup\" + '\n",
      "  '0.071*\"excellent\" + 0.064*\"connect\" + 0.038*\"place\" + 0.008*\"believe\" + '\n",
      "  '0.005*\"area\" + 0.001*\"camera\"'),\n",
      " (18,\n",
      "  '0.569*\"product\" + 0.134*\"pay\" + 0.091*\"friend\" + 0.090*\"highly\" + '\n",
      "  '0.029*\"actually\" + 0.020*\"value\" + 0.008*\"serve\" + 0.008*\"purpose\" + '\n",
      "  '0.004*\"beginner\" + 0.000*\"purse\"'),\n",
      " (19,\n",
      "  '0.383*\"stream\" + 0.234*\"go\" + 0.152*\"feature\" + 0.035*\"light\" + '\n",
      "  '0.026*\"portable\" + 0.022*\"point\" + 0.017*\"electronic\" + 0.017*\"large\" + '\n",
      "  '0.015*\"weight\" + 0.015*\"photo\"')]\n"
     ]
    }
   ],
   "source": [
    "# Print the Keyword in the 10 topics\n",
    "pprint(lda_model.print_topics())\n",
    "doc_lda = lda_model[corpus]"
   ]
  },
  {
   "cell_type": "code",
   "execution_count": 30,
   "metadata": {},
   "outputs": [
    {
     "name": "stdout",
     "output_type": "stream",
     "text": [
      "\n",
      "Perplexity:  -13.383275113512832\n",
      "\n",
      "Coherence Score:  0.45583310717988335\n"
     ]
    }
   ],
   "source": [
    "#Compute Model Perplexity and Coherence Score\n",
    "# Compute Perplexity\n",
    "print('\\nPerplexity: ', lda_model.log_perplexity(corpus))  # a measure of how good the model is. lower the better.\n",
    "\n",
    "# Compute Coherence Score\n",
    "coherence_model_lda = CoherenceModel(model=lda_model, texts=data_lemmatized, dictionary=id2word, coherence='c_v')\n",
    "coherence_lda = coherence_model_lda.get_coherence()\n",
    "print('\\nCoherence Score: ', coherence_lda)"
   ]
  },
  {
   "cell_type": "code",
   "execution_count": 31,
   "metadata": {
    "slideshow": {
     "slide_type": "skip"
    }
   },
   "outputs": [
    {
     "data": {
      "text/html": [
       "\n",
       "<link rel=\"stylesheet\" type=\"text/css\" href=\"https://cdn.rawgit.com/bmabey/pyLDAvis/files/ldavis.v1.0.0.css\">\n",
       "\n",
       "\n",
       "<div id=\"ldavis_el324822286788054487429299640\"></div>\n",
       "<script type=\"text/javascript\">\n",
       "\n",
       "var ldavis_el324822286788054487429299640_data = {\"mdsDat\": {\"x\": [0.3143252760741677, 0.19190706981807742, 0.16334929139167448, 0.1355384704994752, -0.018034886956784676, -0.045232550652048904, -0.03082076644843689, -0.028481526366904528, -0.018827765556865893, -0.027123451548286503, -0.016351686712407772, -0.04286642168260663, -0.06403532549967214, -0.08212134188358189, -0.08113704349572468, -0.08348012831018814, -0.10703471348298829, -0.1281268108145817, -0.07204473227658031, 0.04059904390426391], \"y\": [0.34094722889390244, -0.2853730329090269, -0.15629486135997947, -0.09010660259008658, 0.006998357888855264, 0.012306309706108043, 0.009883973914822675, 0.008837577320289362, 0.007098017261756383, 0.008514681010514542, 0.0060394735096373775, 0.012443292258413249, 0.015865630050598774, 0.018507425461348023, 0.01842337852913012, 0.018540088409931033, 0.02115177375903023, 0.022189739656938937, 0.0168832985934406, -0.012855749365624348], \"topics\": [1, 2, 3, 4, 5, 6, 7, 8, 9, 10, 11, 12, 13, 14, 15, 16, 17, 18, 19, 20], \"cluster\": [1, 1, 1, 1, 1, 1, 1, 1, 1, 1, 1, 1, 1, 1, 1, 1, 1, 1, 1, 1], \"Freq\": [14.296770911463035, 12.34199458226871, 8.105241592124319, 5.669521441526131, 5.59646889673671, 5.046657152395468, 4.7981762135680235, 4.2819630445181645, 4.008281927426987, 3.9815646061784378, 3.890643716709314, 3.803528506156309, 3.7185417534863054, 3.3088153935173734, 3.2616704536338306, 3.081560494552158, 2.8654794936878236, 2.7671091801967296, 2.6918636008801755, 2.4841470389739917]}, \"tinfo\": {\"Term\": [\"tv\", \"great\", \"good\", \"easy\", \"product\", \"love\", \"fire\", \"movie\", \"work\", \"app\", \"watch\", \"get\", \"buy\", \"well\", \"device\", \"stream\", \"thing\", \"much\", \"purchase\", \"need\", \"want\", \"set\", \"fast\", \"use\", \"make\", \"would\", \"also\", \"go\", \"lot\", \"content\", \"great\", \"work\", \"well\", \"would\", \"recommend\", \"price\", \"look\", \"little\", \"say\", \"definitely\", \"already\", \"overall\", \"high\", \"tablet\", \"perform\", \"check\", \"inexpensive\", \"email\", \"portability\", \"thrill\", \"cable\", \"stick\", \"streaming\", \"box\", \"remote\", \"item\", \"cord\", \"unit\", \"cut\", \"roku\", \"apple\", \"voice\", \"cover\", \"service\", \"love\", \"buy\", \"use\", \"also\", \"be\", \"time\", \"enjoy\", \"see\", \"know\", \"day\", \"like\", \"phone\", \"experience\", \"exactly\", \"alternative\", \"online\", \"wife\", \"regular\", \"night\", \"black\", \"audio\", \"husband\", \"daughter\", \"compact\", \"person\", \"birthday\", \"color\", \"bulky\", \"pic\", \"cable\", \"device\", \"really\", \"even\", \"have\", \"prime\", \"issue\", \"awesome\", \"first\", \"back\", \"install\", \"ever\", \"long\", \"several\", \"extra\", \"start\", \"entertainment\", \"store\", \"smooth\", \"freeze\", \"sometimes\", \"hand\", \"star\", \"hold\", \"week\", \"feel\", \"expensive\", \"complaint\", \"wonderful\", \"disappoint\", \"least\", \"tv\", \"show\", \"video\", \"give\", \"music\", \"keep\", \"offer\", \"gift\", \"listen\", \"fun\", \"whole\", \"fantastic\", \"kind\", \"generation\", \"affordable\", \"annoy\", \"apple\", \"channel\", \"ultra\", \"subscription\", \"live\", \"subscribe\", \"customer\", \"busy\", \"smart\", \"station\", \"reduce\", \"sling\", \"provide\", \"guest\", \"miss\", \"bill\", \"box\", \"favorite\", \"cable\", \"service\", \"remote\", \"free\", \"stick\", \"interface\", \"streaming\", \"firetv\", \"cut\", \"add\", \"voice\", \"unit\", \"cover\", \"way\", \"find\", \"far\", \"take\", \"control\", \"old\", \"never\", \"year\", \"perfect\", \"seem\", \"almost\", \"update\", \"ease\", \"clear\", \"advertise\", \"type\", \"life\", \"size\", \"late\", \"tech\", \"instruction\", \"around\", \"playing\", \"library\", \"disappointed\", \"monitor\", \"bargain\", \"grandmother\", \"cable\", \"cover\", \"box\", \"movie\", \"watch\", \"play\", \"game\", \"read\", \"book\", \"reader\", \"cable\", \"box\", \"streaming\", \"free\", \"stick\", \"channel\", \"remote\", \"save\", \"cut\", \"favorite\", \"live\", \"voice\", \"add\", \"item\", \"home\", \"firetv\", \"ton\", \"search\", \"netflix\", \"alexa\", \"firestick\", \"connection\", \"interface\", \"service\", \"unit\", \"apple\", \"smart\", \"cover\", \"try\", \"much\", \"kindle\", \"still\", \"new\", \"charge\", \"one\", \"however\", \"version\", \"model\", \"second\", \"build\", \"next\", \"leave\", \"learn\", \"real\", \"break\", \"solid\", \"lose\", \"anymore\", \"worry\", \"depend\", \"stand\", \"transfer\", \"sharp\", \"pop\", \"crisp\", \"elderly\", \"cover\", \"cable\", \"stick\", \"box\", \"get\", \"purchase\", \"could\", \"option\", \"happy\", \"son\", \"durable\", \"cable\", \"rid\", \"channel\", \"cut\", \"firetv\", \"amazon\", \"order\", \"bill\", \"glorify\", \"item\", \"programming\", \"currently\", \"stick\", \"unit\", \"box\", \"wifi\", \"previously\", \"htc\", \"sprint\", \"decide\", \"modem\", \"buffer\", \"cool\", \"try\", \"cord\", \"roku\", \"miss\", \"less\", \"streaming\", \"firestick\", \"free\", \"save\", \"remote\", \"apple\", \"connection\", \"voice\", \"service\", \"add\", \"home\", \"alexa\", \"interface\", \"search\", \"cover\", \"app\", \"available\", \"can\", \"android\", \"download\", \"pretty\", \"load\", \"navigate\", \"choose\", \"expect\", \"slow\", \"job\", \"space\", \"amount\", \"plenty\", \"beat\", \"useful\", \"decent\", \"table\", \"graphic\", \"casual\", \"ad\", \"trip\", \"capacity\", \"fail\", \"ebook\", \"ton\", \"sideloade\", \"third_party\", \"generally\", \"add\", \"box\", \"remote\", \"streaming\", \"cable\", \"stick\", \"good\", \"money\", \"worth\", \"internet\", \"nice\", \"small\", \"surfing\", \"save\", \"market\", \"question\", \"comcast\", \"gently\", \"investment\", \"waste\", \"equally\", \"today\", \"fit\", \"piece\", \"decision\", \"forget\", \"voice_recognition\", \"importantly\", \"gentle\", \"functional\", \"none\", \"dot\", \"opinion\", \"call\", \"trying\", \"seller\", \"walk\", \"stable\", \"echo\", \"ask\", \"alexa\", \"quite\", \"equipment\", \"streaming\", \"wifi\", \"roku\", \"interface\", \"super\", \"stick\", \"connection\", \"upgrade\", \"box\", \"item\", \"voice\", \"cable\", \"firestick\", \"service\", \"buffer\", \"ton\", \"remote\", \"cut\", \"home\", \"apple\", \"add\", \"free\", \"search\", \"unit\", \"try\", \"firetv\", \"channel\", \"cover\", \"easy\", \"quality\", \"picture\", \"setup\", \"excellent\", \"connect\", \"place\", \"believe\", \"area\", \"camera\", \"drive\", \"wi_fi\", \"sup\", \"equipment\", \"duty\", \"consolidate\", \"speech\", \"whatsoever\", \"installation\", \"operate\", \"japanese\", \"grandparent\", \"infra\", \"primary\", \"necessary\", \"snugly\", \"produce\", \"navigation\", \"steam\", \"limitless\", \"super\", \"hook\", \"provide\", \"user_friendly\", \"understand\", \"ethernet\", \"quick\", \"interface\", \"medium\", \"remote\", \"router\", \"wifi\", \"account\", \"streaming\", \"voice\", \"must\", \"smart\", \"cut\", \"alexa\", \"stick\", \"search\", \"box\", \"cable\", \"apple\", \"service\", \"add\", \"free\", \"item\", \"unit\", \"connection\", \"firetv\", \"try\", \"channel\", \"cover\", \"many\", \"able\", \"problem\", \"family\", \"member\", \"simple\", \"especially\", \"processor\", \"ability\", \"deal\", \"choice\", \"figure\", \"switch\", \"previous\", \"quickly\", \"application\", \"finally\", \"receive\", \"non\", \"benefit\", \"huge\", \"link\", \"fan\", \"pack\", \"possible\", \"brand\", \"tool\", \"learning\", \"school\", \"popular\", \"need\", \"make\", \"memory\", \"enough\", \"sure\", \"help\", \"may\", \"fact\", \"cheap\", \"thank\", \"last\", \"function\", \"basic\", \"meet\", \"card\", \"carry\", \"expandable\", \"inch\", \"die\", \"teen\", \"cover\", \"case\", \"open\", \"s\", \"plastic\", \"front\", \"rubber\", \"will\", \"tape\", \"change\", \"cable\", \"box\", \"alexa\", \"remote\", \"stick\", \"apple\", \"streaming\", \"unit\", \"service\", \"voice\", \"set\", \"content\", \"access\", \"allow\", \"kid\", \"spend\", \"instal\", \"travel\", \"plan\", \"limit\", \"daily\", \"basically\", \"child\", \"contact\", \"setting\", \"create\", \"important\", \"moment\", \"visit\", \"young\", \"pad\", \"desire\", \"profile\", \"safe\", \"service\", \"firetv\", \"add\", \"provide\", \"ultra\", \"subscription\", \"free\", \"box\", \"streaming\", \"cable\", \"remote\", \"stick\", \"want\", \"come\", \"think\", \"people\", \"wish\", \"easily\", \"cost\", \"user\", \"capability\", \"additional\", \"base\", \"storage\", \"limited\", \"age\", \"image\", \"dollar\", \"mean\", \"name\", \"file\", \"site\", \"alot\", \"ipad\", \"playback\", \"granddaughter\", \"fraction\", \"tab\", \"charger\", \"case\", \"review\", \"interface\", \"cable\", \"remote\", \"box\", \"stick\", \"stream\", \"go\", \"feature\", \"light\", \"portable\", \"point\", \"electronic\", \"large\", \"weight\", \"photo\", \"bed\", \"white\", \"personal\", \"usually\", \"hinge\", \"result\", \"frame\", \"comcast\", \"will\", \"metal\", \"identical\", \"top\", \"turn\", \"equipment\", \"initial\", \"ultra\", \"waste\", \"insert\", \"withstand\", \"upwards\", \"medium\", \"flawlessly\", \"system\", \"home\", \"buffering\", \"market\", \"remote\", \"search\", \"cable\", \"voice\", \"box\", \"service\", \"streaming\", \"stick\", \"try\", \"cut\", \"cover\", \"apple\", \"free\", \"unit\", \"channel\", \"alexa\", \"item\", \"lot\", \"speed\", \"sound\", \"always\", \"hard\", \"speaker\", \"fine\", \"full\", \"reason\", \"simply\", \"hope\", \"display\", \"youtube\", \"mainly\", \"tired\", \"apps\", \"consider\", \"buck\", \"negative\", \"vacation\", \"case\", \"hinge\", \"crack\", \"front\", \"drive\", \"plastic\", \"cover\", \"honestly\", \"surround\", \"bend\", \"support\", \"put\", \"upgrade\", \"streaming\", \"unit\", \"cable\", \"stick\", \"box\", \"remote\", \"service\", \"alexa\", \"free\", \"apple\", \"voice\", \"thing\", \"screen\", \"big\", \"right\", \"sale\", \"bad\", \"reading\", \"present\", \"flexibility\", \"surf\", \"web\", \"steal\", \"lol\", \"mail\", \"case\", \"cable\", \"box\", \"stick\", \"remote\", \"cover\", \"service\", \"must\", \"streaming\", \"rubber\", \"menu\", \"close\", \"item\", \"alexa\", \"voice\", \"s\", \"apple\", \"cut\", \"try\", \"smart\", \"firetv\", \"free\", \"add\", \"product\", \"pay\", \"friend\", \"highly\", \"actually\", \"value\", \"serve\", \"purpose\", \"beginner\", \"purse\", \"manufacturer\", \"bubble\", \"refer\", \"\\u00bdi_\\u00bdi\", \"honestly\", \"impressive\", \"past\", \"customer\", \"cause\", \"avoid\", \"significant\", \"warped\", \"warp\", \"moisture\", \"sunlight\", \"care\", \"lover\", \"attitude\", \"agree\", \"attache\", \"homework\", \"bill\", \"purchasing\", \"notice\", \"order\", \"reliable\", \"satellite\", \"buffer\", \"cable\", \"front\", \"month\", \"tell\", \"roku\", \"apple\", \"router\", \"home\", \"free\", \"stick\", \"cord\", \"streaming\", \"item\", \"channel\", \"cut\", \"box\", \"favorite\", \"save\", \"remote\", \"cover\", \"add\", \"service\", \"voice\", \"unit\", \"alexa\", \"try\", \"interface\", \"fire\", \"fast\", \"run\", \"amazing\", \"hd\", \"stick\", \"renting\", \"harder\", \"extreme\", \"cluttered\", \"aspect\", \"socket\", \"square\", \"edit\", \"decode\", \"substantial\", \"advertising\", \"optimize\", \"exceptionally\", \"prior\", \"additionally\", \"title\", \"bag\", \"amp\", \"prong\", \"steroid\", \"junk\", \"adjustment\", \"customization\", \"working\", \"ram\", \"bite\", \"various\", \"supposedly\", \"short\", \"rarely\", \"charger\", \"third\", \"usage\", \"modem\", \"smoothly\", \"buffer\", \"mention\", \"upgrade\", \"buffering\", \"plug\", \"difference\", \"ethernet\", \"original\", \"compare\", \"absolutely\", \"roku\", \"reliable\", \"wifi\", \"menu\", \"directly\", \"bedroom\", \"echo\", \"less\", \"performance\", \"super\", \"decide\", \"interface\", \"box\", \"include\", \"remote\", \"add\", \"cable\", \"service\", \"unit\", \"apple\", \"streaming\", \"connection\", \"try\", \"voice\", \"home\", \"cut\", \"alexa\", \"item\", \"free\", \"search\", \"smart\"], \"Freq\": [13680.0, 16227.0, 9210.0, 8118.0, 6602.0, 10986.0, 5910.0, 7283.0, 11049.0, 6566.0, 7049.0, 6557.0, 9280.0, 9309.0, 7045.0, 5080.0, 4608.0, 5379.0, 5174.0, 4122.0, 3916.0, 3703.0, 3255.0, 5588.0, 3525.0, 5694.0, 5247.0, 3107.0, 2916.0, 2954.0, 16226.159126697754, 11048.602887348152, 9307.853441724506, 5692.671404508173, 4535.271683766994, 2782.230099272412, 2084.8251983306573, 2025.848162861863, 1986.0887476771443, 1218.3943276507027, 1075.5769458132575, 1047.9000218986523, 828.4762254461822, 501.88104566983026, 181.46754560249929, 104.19498663111625, 101.1247760775893, 84.78495044863925, 50.71148455551004, 7.4560506557159885, 0.07546643232178776, 0.07536840528648876, 0.07533651360034037, 0.0753871161023524, 0.07532624470139837, 0.07523903255966814, 0.07522242872306938, 0.07523495159982958, 0.0752364215853632, 0.07522214172589377, 0.07525282242395971, 0.07524615848954064, 0.07525002245151471, 0.07523719157778556, 10985.105160298119, 9278.747889597182, 5587.011342087751, 5246.25519388269, 3877.729832972289, 3657.7117821218103, 2188.1415884503017, 1711.2507365689037, 1700.1814803494638, 1317.4676196006983, 901.1865987579173, 833.3270603146594, 661.072032262287, 537.1484199094896, 534.4830819369346, 523.7131205687646, 371.7963063274925, 370.93842015936394, 360.4725306773872, 335.32807520075886, 283.7735222590115, 272.6141211629322, 248.46284342382046, 231.76235408271026, 199.11263220877134, 77.49522628333374, 20.34086067209577, 16.09165562132213, 4.1923226775883595, 0.09114861668275613, 7044.208114311157, 2738.880271100755, 2330.266503945167, 1871.9216210273335, 1857.231960168293, 1686.4006087566856, 1547.2618326397103, 1394.043275885968, 1366.2030889889588, 1017.4036172193024, 904.947881057353, 822.4496824788024, 804.9021671112534, 797.8233302840061, 791.4769348964081, 573.7275890122015, 548.7744502505452, 520.721357939055, 490.4787761238389, 482.15114777323384, 471.3690441144387, 433.2549112214467, 421.4684232626974, 420.3813670328264, 381.60137237477016, 352.3412633845715, 308.9681489395266, 288.0488672002657, 262.2908718499669, 239.88881069290196, 13679.12023201979, 2764.4052451977273, 1381.3766116183717, 1379.8533895195592, 1257.699090858434, 884.4245377574371, 785.4953283674201, 308.6535428734566, 289.1140989521216, 271.8619668486692, 265.6269301592047, 236.0027344589485, 170.5663328723209, 132.97710275760087, 126.21383654864938, 22.530380983796043, 0.05096273164031466, 0.05094455511436901, 0.05091427570920482, 0.05092457981187896, 0.050925301543208505, 0.05091325418178454, 0.050912726762736026, 0.05091076143280788, 0.0509373044903968, 0.05091196616895027, 0.05091008966749345, 0.050916396488957794, 0.05092037156304976, 0.05090935683260499, 0.05091784550339634, 0.05091972755663262, 0.051022735272697246, 0.05092579009980081, 0.05106289684529677, 0.05094555998645092, 0.05098706508967929, 0.05094365017431735, 0.05099952328278315, 0.05093688255515799, 0.05098199631503409, 0.05093377911044094, 0.050939242061427664, 0.050938414846288416, 0.05094343365491849, 0.050937648700723204, 0.05093907550804392, 2718.451056694165, 2701.409413464754, 2457.6565764641373, 2067.1370114696024, 1773.9483426238899, 1500.1935471710317, 1310.2070326052665, 1271.3762786066823, 1232.3055204333848, 1131.1343779125143, 982.0665548981883, 512.3180921287515, 508.06944359109104, 438.3155029949013, 394.62073621945086, 381.5259629900233, 368.24380154038386, 264.4962730153158, 221.9213685923033, 205.09611520990288, 201.8356993501089, 197.07527984543705, 181.9065760408036, 134.87051657788507, 85.79611638441159, 38.64704148765121, 20.486407133078057, 1.3268287225422144, 0.08881849591552027, 0.0886006890966123, 0.08872615928378264, 7281.827862137452, 7048.320820464972, 2714.8607174908284, 2147.042047926325, 1308.158125948594, 322.3034112277176, 50.873006507126746, 0.09538358604471216, 0.09527366940534227, 0.0951894701561028, 0.09509219477037503, 0.09521442650125242, 0.0950689779566101, 0.09517625564779982, 0.09505232392034194, 0.09506966981568356, 0.09503495825759821, 0.09502841524750354, 0.09508246920854246, 0.09506483668587042, 0.0950667343564719, 0.09504701637287843, 0.09505043613344151, 0.09502498560323941, 0.09504948729814076, 0.09503238849532539, 0.09506405587348751, 0.09503239837902643, 0.09504960590255336, 0.09505566461129661, 0.09507164655589342, 0.09506078436844018, 0.09508037386392, 0.09504487160975071, 0.09507520468827119, 0.0950528576401986, 5378.255753417685, 2304.4581728774183, 1924.1291035995969, 1859.4831631567624, 964.2887555765735, 850.2874769813226, 767.6856309786524, 765.134182185608, 668.7131432646612, 613.6912547364301, 527.3677376130706, 492.2236166662402, 448.7745853241645, 390.49906841787356, 358.36550924386415, 352.09342856977275, 222.57426212528574, 217.00674743835157, 194.61604066620927, 154.00348883427145, 137.91431748200978, 103.06015401798471, 76.01434647453576, 68.59429571051179, 37.72081941414826, 31.241622128371915, 23.610730810611244, 0.08118583274937256, 0.08132926947084296, 0.08120048276567055, 0.0812110356638762, 6556.250438097586, 5173.000022912606, 2215.4535427040287, 1981.826501438049, 1549.642154678251, 204.88243117289835, 91.80020433643227, 0.07398360929797254, 0.07374003576538354, 0.07377091329153236, 0.07377587784761061, 0.07376443924205195, 0.07375019130155036, 0.07374044668303191, 0.07373835016441778, 0.07372229921790804, 0.07377523211987747, 0.07372941899512162, 0.07372703734997597, 0.07388193653126195, 0.0737728337025829, 0.07390528336254884, 0.07374368370777212, 0.07372450475549011, 0.07371950665511404, 0.07371950665511404, 0.0737456544352694, 0.07372312105320478, 0.07374541962518462, 0.07372973766595096, 0.07377054430425628, 0.07375975981250522, 0.07375925664803784, 0.07373393070317921, 0.07374808639686178, 0.07384485331001532, 0.07374864826385036, 0.0737755340185579, 0.07375781424323131, 0.07384249682309305, 0.07378432262458831, 0.07376069066676989, 0.07377882135974484, 0.07377478765793127, 0.07376723180484597, 0.07375641376879709, 0.07376568038107151, 0.07376154604636447, 0.07375763813566773, 0.07377417547449594, 6564.919543854485, 1222.751298031417, 1178.4457603362098, 896.2175045358993, 820.5056196334568, 743.8319464969086, 713.5262924840404, 660.5188091834245, 576.7432984142558, 565.6587468932535, 420.3457664142356, 383.59202839190283, 332.904740236541, 318.0066687856973, 308.4105546525323, 245.80866137682872, 228.84910526921772, 129.79855845942203, 104.5851860128751, 70.56428250646161, 60.14368946087507, 57.497152063062615, 31.73545871666927, 26.81296193727858, 20.932937318975306, 1.527685399345793, 0.06390037396670134, 0.06388025421272107, 0.0638809999702818, 0.0638795987310756, 0.0639235866520387, 0.06403165477266665, 0.06398918976714332, 0.06398287045307617, 0.0640697355087409, 0.06399052820571283, 9209.124793782612, 1782.1695479786445, 1654.1461648490397, 1533.2851738232232, 1529.0073111496965, 820.1421246844002, 1.9411585698948841, 0.06817026368863996, 0.0681462310088092, 0.06814235552474823, 0.06813136848844663, 0.06812896678001448, 0.06813265511796386, 0.06813118914008968, 0.06812738383582058, 0.06812906815082494, 0.06813364543280438, 0.06813332572486373, 0.06813335691588233, 0.06813141527497453, 0.06812934886999233, 0.06812913053286214, 0.06812894338675053, 0.0681286080833006, 0.0681289199934866, 0.06813475271396466, 0.06813001947689222, 0.06813615630980163, 0.06812665864463814, 0.06812656507158234, 0.06813154003904894, 0.06813182075821632, 0.06814927213312263, 0.06814970100962837, 0.06817445108288692, 0.06813585999512493, 0.06813122033110829, 0.06824051366028024, 0.06814766579566477, 0.0681614288326217, 0.06816797894652757, 0.06814907718925639, 0.06825993006935831, 0.06816365899045156, 0.06815533098848554, 0.06827560355620445, 0.06817183103732458, 0.06817997969093365, 0.06832528305107849, 0.06815168163930943, 0.0681750593077496, 0.06814816485196236, 0.06814636357063825, 0.06822806064610447, 0.06816847800282515, 0.06815821615770598, 0.06817948063463605, 0.06816710559800679, 0.06817113703716074, 0.06815996285474754, 0.06816655195742664, 0.06816429060857819, 0.06815894134888842, 0.06816152240567751, 0.06817008434028302, 8116.635281275297, 2153.6353985753126, 1433.699636110439, 1366.4643991318364, 1182.1688876954388, 1064.982648679638, 632.1375916480359, 141.32293342861192, 85.5631659965997, 9.980894682086177, 0.06282042918288865, 0.06281833376833765, 0.06281648980353277, 0.06281938147561315, 0.06281550686361613, 0.06281502301334708, 0.06281584593978892, 0.06281596023512807, 0.06281691650613225, 0.06282247506945934, 0.06281639836726147, 0.06281642884601857, 0.06281440962836034, 0.06281542685687873, 0.06281496967552215, 0.0628149849149007, 0.06281563258848918, 0.06281995295230888, 0.06281701937193748, 0.06281455440245659, 0.06283687628219164, 0.06282829651206648, 0.06282957281002026, 0.06282735929028549, 0.06282280652594287, 0.06283379030803472, 0.06283433511581799, 0.06285141845917555, 0.06283812591123297, 0.06291186926404946, 0.0628298356893003, 0.06283260163650761, 0.06282968329551478, 0.06290826134117711, 0.06286114118269218, 0.06283859071227882, 0.06284360446782267, 0.06285107557315812, 0.06285107557315812, 0.06291767546727804, 0.0628435777989102, 0.0629306860867174, 0.06297265914509616, 0.06285988012411695, 0.06285424155405245, 0.06284921255913005, 0.06285296906594329, 0.0628501764498235, 0.06284914017208193, 0.06284401212119894, 0.06284341397559075, 0.0628467323502706, 0.06284583703678064, 0.06285336147994103, 2144.741699390688, 1713.99001253443, 1533.7832185957536, 1355.1593571358421, 1337.4757923212221, 1203.4464462260526, 789.8156325735166, 624.0077880446039, 617.6140589237472, 484.1732781237851, 478.16414545425494, 412.2688143672707, 404.7365210911021, 328.8884867881761, 272.33868165561825, 270.49957529305067, 267.80544740287286, 244.01212325498025, 212.65178383475802, 180.74515269198298, 162.55972078258753, 139.1688422668249, 120.82533831734926, 108.40772425530687, 91.29990993942035, 88.3945819987798, 87.91813854486641, 34.20602134834495, 27.52267019931636, 20.642362112156224, 4121.531243624008, 3524.0434849833277, 1091.9774943097416, 962.2261972907468, 846.6774611234989, 818.6526080186794, 729.9264700456005, 722.9546205461193, 668.1473796386443, 410.21976220415434, 289.1826953809989, 243.98493264421558, 243.5971022248819, 191.9966847851036, 160.99172859886187, 152.5544370341877, 51.93116506203493, 45.88996762377655, 41.59917879108694, 1.3702646855818632, 0.07689413128469756, 0.07683922022722613, 0.07683254933483305, 0.07683345966403517, 0.07680915023302194, 0.07681069415134872, 0.07680748250992368, 0.07682606050828039, 0.07680791218530707, 0.07681625080079843, 0.0770634088204888, 0.0769905387885181, 0.07685551876126076, 0.07693378522474159, 0.076959820639922, 0.07687049185597711, 0.07692829411899445, 0.07685337038434377, 0.07686015051624111, 0.07686143954239129, 3701.647467866706, 2953.5744138864698, 1572.1815212463873, 1522.8225665412738, 678.614120636898, 641.8234389317267, 504.0507388954756, 363.63678194708933, 323.9893946532231, 220.10525584055742, 198.3448996936638, 196.46639267606656, 101.43455477913207, 96.55040999048455, 94.09375227550419, 89.3722158957239, 56.26206487456967, 53.61286500118526, 47.34096477568664, 43.28602665426852, 42.857528115260315, 20.044235241420218, 18.233090772797308, 11.235552596392397, 0.07726558246805411, 0.07724623907430839, 0.07725535671417445, 0.07721822517442137, 0.07720652841538919, 0.07722263170968002, 0.07725854497203807, 0.07738041807293448, 0.07732915321935914, 0.07743931012062664, 0.07732602976348461, 0.07734000107233413, 3915.5868933460793, 1773.1296636908621, 1342.685744748725, 727.4361777990807, 656.1148053028038, 604.2023056079555, 576.6214107922933, 575.9162720182928, 522.3475465574248, 394.90144482687197, 337.3007123080352, 320.3005883256514, 218.94985417392758, 192.23842555601772, 173.75346770145796, 169.96853394378186, 166.80951223625945, 148.40274759973678, 116.17968482778706, 109.96370992321997, 109.43087880770479, 103.74186104259489, 93.45369663582265, 8.904481645138427, 6.941043006579552, 1.0882086426819921, 0.07528570362738166, 0.07528303988675994, 0.07527141396845889, 0.07529794916880095, 0.0754845451575327, 0.07537317908079622, 0.07541339709267719, 0.07538591010012258, 5078.842748046024, 3106.032580606806, 2023.3285153447466, 465.16391348383587, 350.6314953677689, 297.4392716676269, 222.44336785134195, 220.7697080412862, 202.6547291563155, 198.39001752614743, 178.32572739412328, 139.2581493117071, 87.98667303156708, 33.7443362591103, 0.07358492353876009, 0.07357009522887127, 0.07357144709757908, 0.0735665707140259, 0.07358702376335972, 0.07356279875892599, 0.07356281686431046, 0.07357821851137447, 0.07358829114027331, 0.07356657674915407, 0.07356253321328696, 0.07356901494093065, 0.0735661361847984, 0.0735621650704692, 0.0735621650704692, 0.0735621650704692, 0.07359292611870008, 0.07356802517991244, 0.07359369257997639, 0.0736004458883873, 0.07359328822638968, 0.07357692699394826, 0.0736835013221235, 0.07360110371735672, 0.07378418536521471, 0.07361978243901153, 0.07371948879134084, 0.07361497847699627, 0.07367430378680785, 0.0736955957189559, 0.07360565420398926, 0.07360816481730377, 0.07362470710359, 0.07361893752106916, 0.07361106771394867, 0.0736057990470651, 0.07360258232375588, 0.07360517742886463, 0.07360480928604687, 2914.8217796689396, 1438.2744357550948, 1142.37634679462, 1057.2109567354855, 607.2250457377555, 527.294051957262, 515.2935302706101, 514.8806465647793, 494.1032314570196, 427.06219940957675, 413.30978379373073, 262.75480456443324, 235.34219521381203, 210.55455344313998, 209.24940235009004, 194.6000530853455, 166.78473155989403, 136.58524914095827, 100.73274010986678, 12.514133719182455, 0.08397220419468292, 0.08395443117722705, 0.08395070484833828, 0.08394685505674537, 0.08394079977230114, 0.08394412204143088, 0.08402265554514972, 0.08394049672748187, 0.08393425063704033, 0.08393510365208715, 0.08396282102916786, 0.08396170986483054, 0.08396733302981027, 0.08405845972935196, 0.08398410150980969, 0.08416362750551966, 0.08408027895633916, 0.08409678367510699, 0.08404512575730422, 0.0839885910626877, 0.0839829342260614, 0.0839863575101309, 0.08399324336185755, 0.08398831607757393, 4607.477393810042, 1534.1332908378954, 1325.4102823634464, 1192.5126041158542, 834.7710136913311, 558.391938479581, 321.70995489951855, 275.17835143545983, 123.71610248440152, 71.31909777840153, 24.421875444984103, 22.113165840878775, 3.188721578605325, 2.3688066276599997, 0.11274418676446239, 0.11307661662396253, 0.11296565131792222, 0.11292894107260491, 0.11288532665655625, 0.11278925354923633, 0.11276185363776242, 0.1127148684256424, 0.11286442988862837, 0.11267104807671478, 0.11269074176308666, 0.11267936126188112, 0.1127439483158657, 0.11274152047560852, 0.11275810349165089, 0.11270339037728368, 0.11276499682380967, 0.1127382255495452, 0.11273297968041808, 0.112719052114657, 0.11272078628626929, 0.11273868076959342, 0.11273103957592685, 6601.530011236079, 1552.11367329985, 1049.5246047755775, 1049.031661824101, 339.5493102003257, 232.26056184945844, 97.34760619900635, 90.47032539500437, 40.74234604367658, 0.7101459057304419, 0.05956499892315845, 0.0595640816089984, 0.059562768900803836, 0.05956693898988776, 0.059567149866706165, 0.059562695093917394, 0.05956390763562321, 0.05956696534949006, 0.05956525724726099, 0.059564213407009896, 0.05956447173111244, 0.05956214154226908, 0.05956214154226908, 0.05956214154226908, 0.059562146814189545, 0.05956776668139999, 0.059562394594451167, 0.05956176196399596, 0.05956161435022308, 0.05956216790187138, 0.05956324337364524, 0.0595753740626239, 0.05956420813508944, 0.05956622728062565, 0.05957531607149884, 0.059571989489688525, 0.059573528890462864, 0.05957838960112707, 0.05972057329593553, 0.059567961742457015, 0.05958337156596184, 0.05957443038886154, 0.059585923175464524, 0.059602424286504585, 0.05957400863522473, 0.059584932054418026, 0.05959549698302004, 0.0596507625252031, 0.05958502694898631, 0.059633728950196564, 0.05959255525140331, 0.05958956080058198, 0.05959201224359592, 0.05965801141583572, 0.0595781998119905, 0.0595842625205196, 0.05962883660800961, 0.059600758359639204, 0.0595895713444229, 0.059593066627687936, 0.05959433716051882, 0.05958856440761503, 0.05958895452972907, 0.05958732550630691, 0.059585280001168396, 5909.228705168076, 3254.2373853586205, 660.0797332471947, 523.1951131844743, 64.11881245283456, 0.03179661008051246, 0.03172117404208017, 0.03172082375381039, 0.03172082375381039, 0.031720833484040104, 0.03172130783273877, 0.03172059995852691, 0.031720563470165476, 0.031721825967471154, 0.03172179191166715, 0.03172094294912441, 0.03172057076783777, 0.031721276209492194, 0.03172132972575563, 0.031720728884070654, 0.03172144892106966, 0.031722013274393196, 0.03172053427947633, 0.03172109376768501, 0.03172048076321289, 0.03172058536318234, 0.0317205902282972, 0.03172076537243209, 0.03172070942361122, 0.03172114485139102, 0.03172183569770087, 0.031721855158160304, 0.03172293521365881, 0.0317210840374553, 0.031723076301989686, 0.031721869753504876, 0.03173202324821374, 0.031722113009247786, 0.031722013274393196, 0.03172232950685897, 0.031722871967165646, 0.031729503118717244, 0.03172189894419403, 0.03173177269479854, 0.03173148078790706, 0.03172968312796699, 0.031724029864501874, 0.031728590909681345, 0.031727707891334604, 0.03172724813798051, 0.03172431447372107, 0.03173250732714212, 0.03172535074318585, 0.031727569235561144, 0.03172635295684662, 0.0317247936875346, 0.03172575454771907, 0.03172760572392258, 0.03172889254680255, 0.03172543101758101, 0.03172782951920605, 0.031727827086648626, 0.0317331251967291, 0.031764210848114934, 0.031728466849252464, 0.03175123558678838, 0.031733470619884026, 0.031776405258506765, 0.031735146651952637, 0.03173337088502943, 0.031736837279365826, 0.031749377112912584, 0.03173127645308302, 0.031732614359668995, 0.03173463094977768, 0.03172979502560873, 0.031731488085579344, 0.03173141024374162, 0.031731203476360145, 0.031731617011123085, 0.03172989962557818, 0.03172985340698702], \"Total\": [13680.0, 16227.0, 9210.0, 8118.0, 6602.0, 10986.0, 5910.0, 7283.0, 11049.0, 6566.0, 7049.0, 6557.0, 9280.0, 9309.0, 7045.0, 5080.0, 4608.0, 5379.0, 5174.0, 4122.0, 3916.0, 3703.0, 3255.0, 5588.0, 3525.0, 5694.0, 5247.0, 3107.0, 2916.0, 2954.0, 16227.555635694212, 11049.99939634461, 9309.249950720965, 5694.067913504633, 4536.6681927634545, 2783.6266082688717, 2086.2217073271167, 2027.2446718583226, 1987.4852566736038, 1219.7908366471622, 1076.973454809717, 1049.2965308951118, 829.8727344426417, 503.27755473875857, 182.86405459895875, 105.59149562757574, 102.52128519278202, 86.18145947897577, 52.107993551969535, 8.852559652175476, 1.4768283604120314, 1.4749434871131744, 1.474364294718538, 1.4754106380028134, 1.4743901034717164, 1.4728039894724736, 1.4725186481524044, 1.4727664387939718, 1.472798164160176, 1.4725201900569413, 1.4731219710507488, 1.4730240807204582, 1.4732527400593558, 1.4729348460348748, 10986.486120354217, 9280.12884965328, 5588.3923021438495, 5247.636153938789, 3879.1107930283883, 3659.0927421779097, 2189.522548506401, 1712.6316966250024, 1701.5624404149596, 1318.848579656797, 902.5675588140161, 834.7080203707583, 662.4529923183859, 538.5293799655884, 535.8640419930334, 525.0940806248634, 373.17726638359136, 372.3193802154628, 361.85349073348607, 336.70903532635856, 285.15448231511033, 273.9950812284281, 249.8438034799193, 233.1433141388091, 200.4935922648702, 78.87618633943258, 21.72182072819462, 17.47261567742098, 5.5732827954876845, 1.4768283604120314, 7045.616462721431, 2740.288619511029, 2331.674852355441, 1873.3299694376074, 1858.6403085785669, 1687.8089571669595, 1548.6701810499842, 1395.451624313245, 1367.6114374937317, 1018.8119656295762, 906.3562294676268, 823.8580308890762, 806.3105155686499, 799.2316786942799, 792.8852833066819, 575.1359374224753, 550.182798660819, 522.1297063493288, 491.8871245966214, 483.5594961835077, 472.7773925247125, 434.66325963172056, 422.8767718172858, 421.78971545406074, 383.009720785044, 353.74961179484535, 310.37649734980045, 289.45721561053955, 263.69922026024074, 241.29715916895526, 13680.541005353325, 2765.826018531264, 1382.7973849697466, 1381.274162857405, 1259.1198641650835, 885.8453111264288, 786.9161016899961, 310.07431618010617, 290.53487225877114, 273.2827401553188, 267.0477034658542, 237.4235077655981, 171.9871061888542, 134.39787615712763, 127.63460989757199, 23.95115429044563, 1.4731219710507488, 1.4726920951104683, 1.4718467278759348, 1.4721588474738798, 1.4721827879326683, 1.4718351515696528, 1.471821217770891, 1.4717785212062178, 1.4725459365359963, 1.4718139673566455, 1.4717626765869187, 1.4719469326104466, 1.4720620045765034, 1.4717445698652607, 1.4720021032611392, 1.4720641792185947, 1.4754106380028134, 1.472265953668574, 1.4768283604120314, 1.4729348460348748, 1.4743901034717164, 1.472900999189376, 1.4749434871131744, 1.4726799315946872, 1.474364294718538, 1.4725740062553936, 1.472798164160176, 1.472766478171881, 1.4730240807204582, 1.4727664387939718, 1.4732527400593558, 2719.8342991122427, 2702.7926558828317, 2459.039818882215, 2068.52025388768, 1775.331585041968, 1501.57678958911, 1311.5902750233447, 1272.7595210247605, 1233.688762851463, 1132.5176203305925, 983.4497973162665, 513.7013345468297, 509.45268600916916, 439.6987454129794, 396.003978637529, 382.90920541893996, 369.62704395846197, 265.8795154333939, 223.3046110103815, 206.47935763881966, 203.2189417681871, 198.45852226351525, 183.2898184588818, 136.25375899596327, 87.17935880248977, 40.0302839057294, 21.869649551156243, 2.710071193354069, 1.4768283604120314, 1.4732527400593558, 1.4754106380028134, 7283.204562509845, 7049.697520837365, 2716.237417863221, 2148.418748298717, 1309.5348263846693, 323.68011162034605, 52.249706879519586, 1.4768283604120314, 1.4754106380028134, 1.474364294718538, 1.472900999189376, 1.4749434871131744, 1.4726920951104683, 1.4743901034717164, 1.4725143533235685, 1.472798164160176, 1.472265953668574, 1.4721827879326683, 1.4730240807204582, 1.472766478171881, 1.4728039894724736, 1.4725113686559361, 1.4725740062553936, 1.4721817119090252, 1.4725616710518303, 1.4723022850497811, 1.472798539996598, 1.4723154302403547, 1.4725858380223318, 1.4726799315946872, 1.4729348460348748, 1.4727664387939718, 1.4731219710507488, 1.4725459365359963, 1.4732527400593558, 1.4727308624025182, 5379.6464544043865, 2305.848874045384, 1925.519804586298, 1860.8738641434636, 965.6794566502789, 851.6781779680238, 769.0763319653536, 766.5248831723092, 670.1038442513624, 615.0819557231313, 528.7584385997718, 493.61431766378007, 450.16528636648843, 391.88976940457485, 359.75621023056544, 353.4841295782731, 223.96496311198698, 218.3974484250528, 196.0067416529105, 155.39418982097268, 139.30501850487514, 104.45085500468596, 77.40504754022146, 69.98499680827722, 39.11152040084952, 32.63232312252225, 25.0014317973125, 1.4732527400593558, 1.4768283604120314, 1.4749434871131744, 1.4754106380028134, 6557.648401429807, 5174.397986244827, 2216.851506036249, 1983.2244647702698, 1551.0401180104718, 206.280394505119, 93.19816774201948, 1.4768283604120314, 1.4720254175423664, 1.4726920951104683, 1.472798164160176, 1.4725740062553936, 1.4722898779539328, 1.4720986429572698, 1.4720641792185947, 1.4717456785525116, 1.4728039894724736, 1.4718907801624073, 1.4718450720743397, 1.4749434871131744, 1.4727664387939718, 1.4754106380028134, 1.4721853966366516, 1.47180475880648, 1.4717073328505552, 1.4717073328505552, 1.472230292162615, 1.4717814092181853, 1.4722273010195865, 1.4719156407778025, 1.4727308624025182, 1.4725186481524044, 1.4725201900569413, 1.4720021032611392, 1.472300360706686, 1.474364294718538, 1.4723154302403547, 1.472900999189376, 1.4725143533235685, 1.4743901034717164, 1.4731219710507488, 1.4725858380223318, 1.4730240807204582, 1.4729348460348748, 1.472766478171881, 1.4725113686559361, 1.472798539996598, 1.4726799315946872, 1.4725616710518303, 1.4732527400593558, 6566.327349303952, 1224.1591034808844, 1179.8535657856771, 897.6253099853665, 821.913425082924, 745.2397519463758, 714.9340979335076, 661.9266146328918, 578.151103863723, 567.0665523427207, 421.75357186370275, 384.9998338523305, 334.31254568600815, 319.41447425204586, 309.8183601019995, 247.2164668262959, 230.2569107186849, 131.20636390888922, 105.99299165383945, 71.97208801411516, 61.55149660599293, 58.90495754621285, 33.14326416613648, 28.220767386745788, 22.340742768442514, 2.935490848812997, 1.4721817119090252, 1.4717343271100525, 1.4717753390201898, 1.4717432883677446, 1.472766478171881, 1.4754106380028134, 1.4743901034717164, 1.474364294718538, 1.4768283604120314, 1.4749434871131744, 9210.5283482992, 1783.5731024952322, 1655.5497193656274, 1534.688728339811, 1530.4108656662843, 821.545679200988, 3.3447131242572086, 1.4725143533235685, 1.4720300290391786, 1.472013850110391, 1.4717899207141647, 1.4717383587709219, 1.4718187323502812, 1.4717893809388989, 1.4717077030781296, 1.4717443905375516, 1.4718443815996114, 1.4718385779885785, 1.4718393862146353, 1.4717975941334747, 1.4717533594986663, 1.4717487016670532, 1.4717447422289103, 1.4717385107664982, 1.4717453749189404, 1.4718714016491863, 1.4717692841691918, 1.4719022545089726, 1.4716973874355816, 1.471695556525072, 1.4718039081343028, 1.4718106303988145, 1.4721989344660662, 1.4722119477354716, 1.472798539996598, 1.471906278733412, 1.4717974451065836, 1.474364294718538, 1.4721853966366516, 1.4725201900569413, 1.4726799315946872, 1.4722291912128849, 1.4749434871131744, 1.4725858380223318, 1.4723906994003766, 1.4754106380028134, 1.4728039894724736, 1.4730240807204582, 1.4768283604120314, 1.4723154302403547, 1.4729348460348748, 1.4722273010195865, 1.4721817119090252, 1.4743901034717164, 1.472798164160176, 1.4725113686559361, 1.4731219710507488, 1.472766478171881, 1.472900999189376, 1.4725616710518303, 1.4727664387939718, 1.4727308624025182, 1.4725740062553936, 1.4726920951104683, 1.4732527400593558, 8118.044147505308, 2155.0442648053236, 1435.1085023404503, 1367.8732653618476, 1183.57775392545, 1066.3915149096492, 633.5464579473892, 142.731799695862, 86.97203222661079, 11.389760912097277, 1.47180364589544, 1.471755515473211, 1.4717243823853474, 1.4717974451065836, 1.471707023718771, 1.471698176023597, 1.4717180815996609, 1.47172114306846, 1.4717436219295414, 1.471875772682163, 1.4717336956712819, 1.471734452697077, 1.4716896687403256, 1.4717153430807908, 1.4717050453484248, 1.4717060876266814, 1.4717217327578254, 1.4718233364500448, 1.4717548967774954, 1.4716973614393591, 1.4722291912128849, 1.4720242092092362, 1.4720620045765034, 1.4720100214202325, 1.4719005587285885, 1.4721975658775235, 1.4722159262140373, 1.4726799315946872, 1.4723303991439827, 1.4743901034717164, 1.4721061311614625, 1.4721853966366516, 1.4721113836446462, 1.474364294718538, 1.4730240807204582, 1.4723879856274318, 1.4725459365359963, 1.472798164160176, 1.472798539996598, 1.4749434871131744, 1.4725616710518303, 1.4754106380028134, 1.4768283604120314, 1.4731219710507488, 1.4729348460348748, 1.472766478171881, 1.472900999189376, 1.4728039894724736, 1.4727664387939718, 1.4725858380223318, 1.4725740062553936, 1.4727308624025182, 1.4726920951104683, 1.4732527400593558, 2146.1453849751797, 1715.3936981189215, 1535.1869041802452, 1356.5630427203337, 1338.8794779057137, 1204.850131810544, 791.219318158008, 625.4114736414115, 619.0177445082386, 485.5769637082766, 479.5678310387464, 413.6724999517622, 406.14020667559356, 330.2921724140048, 273.74236724010973, 271.90326087754215, 269.20913298736434, 245.4158088394717, 214.05546941924948, 182.14883827647444, 163.963406367079, 140.57252785131635, 122.22902390184075, 109.81140989340122, 92.70359552391183, 89.79826758327128, 89.32182412935789, 35.60970693283644, 28.926355877976423, 22.046047696647708, 4122.926129343999, 3525.4383707033176, 1093.372380029732, 963.6210830107372, 848.0723468434893, 820.0474937386698, 731.3213557655909, 724.3495062661096, 669.5422653586347, 411.61464792414466, 290.5775811009892, 245.37981836420596, 244.99198794487228, 193.3915705160545, 162.38661431885225, 153.9493227541781, 53.326050885407064, 47.28485336412449, 42.99406451107733, 2.7651504055722445, 1.4732527400593558, 1.4723137660925079, 1.4722593433740956, 1.4723136770273244, 1.4718643140409922, 1.4718962318593813, 1.4718398601648757, 1.4722028917780277, 1.4718609186951068, 1.4720271208957356, 1.4768283604120314, 1.4754106380028134, 1.472798539996598, 1.4743901034717164, 1.4749434871131744, 1.4731219710507488, 1.474364294718538, 1.4727664387939718, 1.4729348460348748, 1.4730240807204582, 3703.041954367876, 2954.9689003876397, 1573.5760077475577, 1524.2170530424441, 680.0086071380683, 643.2179254328971, 505.4452253966459, 365.03126844825965, 325.3838811543934, 221.4997423595484, 199.73938619483417, 197.86087917723694, 102.82904128030242, 97.94489660563595, 95.48823877667454, 90.76670239689425, 57.65655139273565, 55.00735179001143, 48.73545127685701, 44.680513176161156, 44.25201461643068, 21.438721742590573, 19.62757728579728, 12.63003909756275, 1.4729348460348748, 1.4725740062553936, 1.472766478171881, 1.4720620045765034, 1.4718467278759348, 1.4721588474738798, 1.472900999189376, 1.4754106380028134, 1.474364294718538, 1.4768283604120314, 1.4743901034717164, 1.4749434871131744, 3916.9833339336174, 1774.5261042877974, 1344.0821853362631, 728.8326184489612, 657.511245890342, 605.5987461954937, 578.0178513798315, 577.312712605831, 523.7439871449631, 396.29788541441025, 338.6971528955735, 321.6970289131897, 220.3462947614658, 193.63486614355594, 175.14990833323512, 171.36497454832343, 168.20595282379767, 149.799188187275, 117.57612549771832, 111.3601505215968, 110.82731939524304, 105.13830165679693, 94.85013723324461, 10.300922232676673, 8.337483878903702, 2.4846492302202403, 1.472303364456508, 1.4723137660925079, 1.4721364943483144, 1.4726799315946872, 1.4768283604120314, 1.4743901034717164, 1.4754106380028134, 1.4749434871131744, 5080.24086892181, 3107.4307014825913, 2024.7266362205326, 466.5620343596218, 352.0296162435548, 298.8373925434128, 223.84148872712782, 222.1678289170721, 204.05285014986012, 199.78813847973277, 179.72384826990915, 140.65627031902065, 89.38479390735299, 35.14245713489621, 1.472009171365816, 1.4718255085580003, 1.4718618374882844, 1.4717899207141647, 1.4722028917780277, 1.4717200517414566, 1.4717205516565068, 1.4720295266764156, 1.4722311741468497, 1.4717974451065836, 1.471716769247609, 1.4718467278759348, 1.4717893809388989, 1.4717110861688283, 1.4717110900938681, 1.4717110900938681, 1.4723303991439827, 1.471828392878271, 1.4723519269664265, 1.4725113686559361, 1.4723766823812123, 1.4720300290391786, 1.4743901034717164, 1.4725616710518303, 1.4768283604120314, 1.4730240807204582, 1.4754106380028134, 1.4729348460348748, 1.474364294718538, 1.4749434871131744, 1.4727308624025182, 1.472798164160176, 1.4732527400593558, 1.4731219710507488, 1.472900999189376, 1.4727664387939718, 1.4726920951104683, 1.472798539996598, 1.4728039894724736, 2916.209530152369, 1439.6621862385246, 1143.7640972780498, 1058.5987072189153, 608.6127962211851, 528.6818024406916, 516.6812807540397, 516.2683970784502, 495.4909819404492, 428.4499499208482, 414.6975343048005, 264.14255504786286, 236.72994569724165, 211.9423039265696, 210.6371528494462, 195.98780358258387, 168.17248204332364, 137.97299962438788, 102.12049059329642, 13.901884202612091, 1.4723137660925079, 1.472009171365816, 1.4719606583390883, 1.4718962318593813, 1.47180364589544, 1.4718643140409922, 1.4732527400593558, 1.4718229056406287, 1.4717255509699125, 1.4717431306622657, 1.4722331551743675, 1.4722323328791627, 1.4723906994003766, 1.474364294718538, 1.4727664387939718, 1.4768283604120314, 1.4749434871131744, 1.4754106380028134, 1.4743901034717164, 1.4729348460348748, 1.472798539996598, 1.472900999189376, 1.4731219710507488, 1.4730240807204582, 4608.836433217751, 1535.4923302456048, 1326.7693217711558, 1193.8716435235635, 836.1300530990404, 559.7509778872903, 323.0689944082227, 276.5373908431692, 125.07514189211088, 72.67813718611089, 25.78091485269347, 23.47220526402804, 4.547760986314689, 3.727846035369364, 1.4723137660925079, 1.4768283604120314, 1.4754106380028134, 1.4749434871131744, 1.4743901034717164, 1.4732527400593558, 1.4729348460348748, 1.4723879856274318, 1.474364294718538, 1.4718398601648757, 1.4720971378040033, 1.4719526808814927, 1.4728039894724736, 1.472798539996598, 1.4730240807204582, 1.4723136770273244, 1.4731219710507488, 1.472798164160176, 1.4727308624025182, 1.4725459365359963, 1.4725740062553936, 1.472900999189376, 1.472766478171881, 6602.942130616569, 1553.5257926803392, 1050.9367241560667, 1050.4437812045903, 340.96142959021194, 233.67268122994764, 98.75972561334501, 91.88244477549355, 42.154465424165764, 2.1222652862196303, 1.4717399040630414, 1.4717339265887317, 1.471711450207791, 1.4718148638291526, 1.4718229056406287, 1.4717134330689898, 1.4717442712506612, 1.471821217770891, 1.4717817587644797, 1.4717561995581938, 1.471764099135142, 1.4717067083249311, 1.4717067083249311, 1.4717067083249311, 1.471706966619829, 1.47184626852742, 1.4717145984949314, 1.471700005204073, 1.4716974986168945, 1.4717116254601832, 1.4717389756495678, 1.4720641792185947, 1.4717694702312936, 1.4718274994884137, 1.4720986429572698, 1.4720056296598028, 1.4720576777576189, 1.4722273010195865, 1.4768283604120314, 1.4718962318593813, 1.4724201622017115, 1.4721171367720953, 1.4725201900569413, 1.4731219710507488, 1.4721061311614625, 1.4725113686559361, 1.472900999189376, 1.4749434871131744, 1.4725186481524044, 1.474364294718538, 1.4728039894724736, 1.4726920951104683, 1.472798164160176, 1.4754106380028134, 1.472265953668574, 1.4725143533235685, 1.4743901034717164, 1.4732527400593558, 1.472766478171881, 1.4729348460348748, 1.4730240807204582, 1.4727664387939718, 1.472798539996598, 1.4727308624025182, 1.4726799315946872, 5910.668664545978, 3255.677344754361, 661.5196926581547, 524.6350725260921, 65.55877186254709, 1.4749434871131744, 1.471704531064327, 1.4716910627103723, 1.4716911443435352, 1.4716922305765823, 1.4717154640477461, 1.4716830813508937, 1.4716817680085919, 1.4717406222526261, 1.4717391121731571, 1.4717005285276878, 1.4716832895001564, 1.4717161338766762, 1.4717193885434428, 1.4716919410828495, 1.471725494982516, 1.4717521393968909, 1.4716837641076863, 1.4717098217158968, 1.4716816545863252, 1.4716866328257723, 1.4716869685215912, 1.471695543580844, 1.4716935316697126, 1.471713985935485, 1.4717469214196497, 1.471750043673885, 1.4718041521892193, 1.4717116906484986, 1.4718125294941287, 1.471752814137649, 1.472303364456508, 1.4717672180685126, 1.4717630196288776, 1.4717814092181853, 1.471818111915069, 1.4722273010195865, 1.4717608894962095, 1.4723906994003766, 1.4723766823812123, 1.4722622283706068, 1.4718997719161446, 1.4721975658775235, 1.4721425269729318, 1.4721238976647417, 1.4719299145505609, 1.4725201900569413, 1.4720056296598028, 1.4721853966366516, 1.4720971378040033, 1.4719766593722439, 1.4720534133969443, 1.4721989344660662, 1.472300360706686, 1.472027896906081, 1.4722291912128849, 1.472230292162615, 1.4726799315946872, 1.4754106380028134, 1.472297343769036, 1.4743901034717164, 1.472766478171881, 1.4768283604120314, 1.4729348460348748, 1.4727664387939718, 1.4731219710507488, 1.474364294718538, 1.4725858380223318, 1.4727308624025182, 1.4730240807204582, 1.4725113686559361, 1.472798164160176, 1.472798539996598, 1.4728039894724736, 1.472900999189376, 1.4725616710518303, 1.4725459365359963], \"Category\": [\"Default\", \"Default\", \"Default\", \"Default\", \"Default\", \"Default\", \"Default\", \"Default\", \"Default\", \"Default\", \"Default\", \"Default\", \"Default\", \"Default\", \"Default\", \"Default\", \"Default\", \"Default\", \"Default\", \"Default\", \"Default\", \"Default\", \"Default\", \"Default\", \"Default\", \"Default\", \"Default\", \"Default\", \"Default\", \"Default\", \"Topic1\", \"Topic1\", \"Topic1\", \"Topic1\", \"Topic1\", \"Topic1\", \"Topic1\", \"Topic1\", \"Topic1\", \"Topic1\", \"Topic1\", \"Topic1\", \"Topic1\", \"Topic1\", \"Topic1\", \"Topic1\", \"Topic1\", \"Topic1\", \"Topic1\", \"Topic1\", \"Topic1\", \"Topic1\", \"Topic1\", \"Topic1\", \"Topic1\", \"Topic1\", \"Topic1\", \"Topic1\", \"Topic1\", \"Topic1\", \"Topic1\", \"Topic1\", \"Topic1\", \"Topic1\", \"Topic2\", \"Topic2\", \"Topic2\", \"Topic2\", \"Topic2\", \"Topic2\", \"Topic2\", \"Topic2\", \"Topic2\", \"Topic2\", \"Topic2\", \"Topic2\", \"Topic2\", \"Topic2\", \"Topic2\", \"Topic2\", \"Topic2\", \"Topic2\", \"Topic2\", \"Topic2\", \"Topic2\", \"Topic2\", \"Topic2\", \"Topic2\", \"Topic2\", \"Topic2\", \"Topic2\", \"Topic2\", \"Topic2\", \"Topic2\", \"Topic3\", \"Topic3\", \"Topic3\", \"Topic3\", \"Topic3\", \"Topic3\", \"Topic3\", \"Topic3\", \"Topic3\", \"Topic3\", \"Topic3\", \"Topic3\", \"Topic3\", \"Topic3\", \"Topic3\", \"Topic3\", \"Topic3\", \"Topic3\", \"Topic3\", \"Topic3\", \"Topic3\", \"Topic3\", \"Topic3\", \"Topic3\", \"Topic3\", \"Topic3\", \"Topic3\", \"Topic3\", \"Topic3\", \"Topic3\", \"Topic4\", \"Topic4\", \"Topic4\", \"Topic4\", \"Topic4\", \"Topic4\", \"Topic4\", \"Topic4\", \"Topic4\", \"Topic4\", \"Topic4\", \"Topic4\", \"Topic4\", \"Topic4\", \"Topic4\", \"Topic4\", \"Topic4\", \"Topic4\", \"Topic4\", \"Topic4\", \"Topic4\", \"Topic4\", \"Topic4\", \"Topic4\", \"Topic4\", \"Topic4\", \"Topic4\", \"Topic4\", \"Topic4\", \"Topic4\", \"Topic4\", \"Topic4\", \"Topic4\", \"Topic4\", \"Topic4\", \"Topic4\", \"Topic4\", \"Topic4\", \"Topic4\", \"Topic4\", \"Topic4\", \"Topic4\", \"Topic4\", \"Topic4\", \"Topic4\", \"Topic4\", \"Topic4\", \"Topic5\", \"Topic5\", \"Topic5\", \"Topic5\", \"Topic5\", \"Topic5\", \"Topic5\", \"Topic5\", \"Topic5\", \"Topic5\", \"Topic5\", \"Topic5\", \"Topic5\", \"Topic5\", \"Topic5\", \"Topic5\", \"Topic5\", \"Topic5\", \"Topic5\", \"Topic5\", \"Topic5\", \"Topic5\", \"Topic5\", \"Topic5\", \"Topic5\", \"Topic5\", \"Topic5\", \"Topic5\", \"Topic5\", \"Topic5\", \"Topic5\", \"Topic6\", \"Topic6\", \"Topic6\", \"Topic6\", \"Topic6\", \"Topic6\", \"Topic6\", \"Topic6\", \"Topic6\", \"Topic6\", \"Topic6\", \"Topic6\", \"Topic6\", \"Topic6\", \"Topic6\", \"Topic6\", \"Topic6\", \"Topic6\", \"Topic6\", \"Topic6\", \"Topic6\", \"Topic6\", \"Topic6\", \"Topic6\", \"Topic6\", \"Topic6\", \"Topic6\", \"Topic6\", \"Topic6\", \"Topic6\", \"Topic6\", \"Topic6\", \"Topic6\", \"Topic6\", \"Topic6\", \"Topic6\", \"Topic7\", \"Topic7\", \"Topic7\", \"Topic7\", \"Topic7\", \"Topic7\", \"Topic7\", \"Topic7\", \"Topic7\", \"Topic7\", \"Topic7\", \"Topic7\", \"Topic7\", \"Topic7\", \"Topic7\", \"Topic7\", \"Topic7\", \"Topic7\", \"Topic7\", \"Topic7\", \"Topic7\", \"Topic7\", \"Topic7\", \"Topic7\", \"Topic7\", \"Topic7\", \"Topic7\", \"Topic7\", \"Topic7\", \"Topic7\", \"Topic7\", \"Topic8\", \"Topic8\", \"Topic8\", \"Topic8\", \"Topic8\", \"Topic8\", \"Topic8\", \"Topic8\", \"Topic8\", \"Topic8\", \"Topic8\", \"Topic8\", \"Topic8\", \"Topic8\", \"Topic8\", \"Topic8\", \"Topic8\", \"Topic8\", \"Topic8\", \"Topic8\", \"Topic8\", \"Topic8\", \"Topic8\", \"Topic8\", \"Topic8\", \"Topic8\", \"Topic8\", \"Topic8\", \"Topic8\", \"Topic8\", \"Topic8\", \"Topic8\", \"Topic8\", \"Topic8\", \"Topic8\", \"Topic8\", \"Topic8\", \"Topic8\", \"Topic8\", \"Topic8\", \"Topic8\", \"Topic8\", \"Topic8\", \"Topic8\", \"Topic8\", \"Topic8\", \"Topic8\", \"Topic8\", \"Topic8\", \"Topic8\", \"Topic9\", \"Topic9\", \"Topic9\", \"Topic9\", \"Topic9\", \"Topic9\", \"Topic9\", \"Topic9\", \"Topic9\", \"Topic9\", \"Topic9\", \"Topic9\", \"Topic9\", \"Topic9\", \"Topic9\", \"Topic9\", \"Topic9\", \"Topic9\", \"Topic9\", \"Topic9\", \"Topic9\", \"Topic9\", \"Topic9\", \"Topic9\", \"Topic9\", \"Topic9\", \"Topic9\", \"Topic9\", \"Topic9\", \"Topic9\", \"Topic9\", \"Topic9\", \"Topic9\", \"Topic9\", \"Topic9\", \"Topic9\", \"Topic10\", \"Topic10\", \"Topic10\", \"Topic10\", \"Topic10\", \"Topic10\", \"Topic10\", \"Topic10\", \"Topic10\", \"Topic10\", \"Topic10\", \"Topic10\", \"Topic10\", \"Topic10\", \"Topic10\", \"Topic10\", \"Topic10\", \"Topic10\", \"Topic10\", \"Topic10\", \"Topic10\", \"Topic10\", \"Topic10\", \"Topic10\", \"Topic10\", \"Topic10\", \"Topic10\", \"Topic10\", \"Topic10\", \"Topic10\", \"Topic10\", \"Topic10\", \"Topic10\", \"Topic10\", \"Topic10\", \"Topic10\", \"Topic10\", \"Topic10\", \"Topic10\", \"Topic10\", \"Topic10\", \"Topic10\", \"Topic10\", \"Topic10\", \"Topic10\", \"Topic10\", \"Topic10\", \"Topic10\", \"Topic10\", \"Topic10\", \"Topic10\", \"Topic10\", \"Topic10\", \"Topic10\", \"Topic10\", \"Topic10\", \"Topic10\", \"Topic10\", \"Topic10\", \"Topic10\", \"Topic10\", \"Topic10\", \"Topic10\", \"Topic10\", \"Topic10\", \"Topic11\", \"Topic11\", \"Topic11\", \"Topic11\", \"Topic11\", \"Topic11\", \"Topic11\", \"Topic11\", \"Topic11\", \"Topic11\", \"Topic11\", \"Topic11\", \"Topic11\", \"Topic11\", \"Topic11\", \"Topic11\", \"Topic11\", \"Topic11\", \"Topic11\", \"Topic11\", \"Topic11\", \"Topic11\", \"Topic11\", \"Topic11\", \"Topic11\", \"Topic11\", \"Topic11\", \"Topic11\", \"Topic11\", \"Topic11\", \"Topic11\", \"Topic11\", \"Topic11\", \"Topic11\", \"Topic11\", \"Topic11\", \"Topic11\", \"Topic11\", \"Topic11\", \"Topic11\", \"Topic11\", \"Topic11\", \"Topic11\", \"Topic11\", \"Topic11\", \"Topic11\", \"Topic11\", \"Topic11\", \"Topic11\", \"Topic11\", \"Topic11\", \"Topic11\", \"Topic11\", \"Topic11\", \"Topic11\", \"Topic11\", \"Topic11\", \"Topic11\", \"Topic11\", \"Topic11\", \"Topic11\", \"Topic11\", \"Topic11\", \"Topic11\", \"Topic12\", \"Topic12\", \"Topic12\", \"Topic12\", \"Topic12\", \"Topic12\", \"Topic12\", \"Topic12\", \"Topic12\", \"Topic12\", \"Topic12\", \"Topic12\", \"Topic12\", \"Topic12\", \"Topic12\", \"Topic12\", \"Topic12\", \"Topic12\", \"Topic12\", \"Topic12\", \"Topic12\", \"Topic12\", \"Topic12\", \"Topic12\", \"Topic12\", \"Topic12\", \"Topic12\", \"Topic12\", \"Topic12\", \"Topic12\", \"Topic13\", \"Topic13\", \"Topic13\", \"Topic13\", \"Topic13\", \"Topic13\", \"Topic13\", \"Topic13\", \"Topic13\", \"Topic13\", \"Topic13\", \"Topic13\", \"Topic13\", \"Topic13\", \"Topic13\", \"Topic13\", \"Topic13\", \"Topic13\", \"Topic13\", \"Topic13\", \"Topic13\", \"Topic13\", \"Topic13\", \"Topic13\", \"Topic13\", \"Topic13\", \"Topic13\", \"Topic13\", \"Topic13\", \"Topic13\", \"Topic13\", \"Topic13\", \"Topic13\", \"Topic13\", \"Topic13\", \"Topic13\", \"Topic13\", \"Topic13\", \"Topic13\", \"Topic13\", \"Topic14\", \"Topic14\", \"Topic14\", \"Topic14\", \"Topic14\", \"Topic14\", \"Topic14\", \"Topic14\", \"Topic14\", \"Topic14\", \"Topic14\", \"Topic14\", \"Topic14\", \"Topic14\", \"Topic14\", \"Topic14\", \"Topic14\", \"Topic14\", \"Topic14\", \"Topic14\", \"Topic14\", \"Topic14\", \"Topic14\", \"Topic14\", \"Topic14\", \"Topic14\", \"Topic14\", \"Topic14\", \"Topic14\", \"Topic14\", \"Topic14\", \"Topic14\", \"Topic14\", \"Topic14\", \"Topic14\", \"Topic14\", \"Topic15\", \"Topic15\", \"Topic15\", \"Topic15\", \"Topic15\", \"Topic15\", \"Topic15\", \"Topic15\", \"Topic15\", \"Topic15\", \"Topic15\", \"Topic15\", \"Topic15\", \"Topic15\", \"Topic15\", \"Topic15\", \"Topic15\", \"Topic15\", \"Topic15\", \"Topic15\", \"Topic15\", \"Topic15\", \"Topic15\", \"Topic15\", \"Topic15\", \"Topic15\", \"Topic15\", \"Topic15\", \"Topic15\", \"Topic15\", \"Topic15\", \"Topic15\", \"Topic15\", \"Topic15\", \"Topic16\", \"Topic16\", \"Topic16\", \"Topic16\", \"Topic16\", \"Topic16\", \"Topic16\", \"Topic16\", \"Topic16\", \"Topic16\", \"Topic16\", \"Topic16\", \"Topic16\", \"Topic16\", \"Topic16\", \"Topic16\", \"Topic16\", \"Topic16\", \"Topic16\", \"Topic16\", \"Topic16\", \"Topic16\", \"Topic16\", \"Topic16\", \"Topic16\", \"Topic16\", \"Topic16\", \"Topic16\", \"Topic16\", \"Topic16\", \"Topic16\", \"Topic16\", \"Topic16\", \"Topic16\", \"Topic16\", \"Topic16\", \"Topic16\", \"Topic16\", \"Topic16\", \"Topic16\", \"Topic16\", \"Topic16\", \"Topic16\", \"Topic16\", \"Topic16\", \"Topic16\", \"Topic16\", \"Topic16\", \"Topic16\", \"Topic16\", \"Topic16\", \"Topic16\", \"Topic16\", \"Topic17\", \"Topic17\", \"Topic17\", \"Topic17\", \"Topic17\", \"Topic17\", \"Topic17\", \"Topic17\", \"Topic17\", \"Topic17\", \"Topic17\", \"Topic17\", \"Topic17\", \"Topic17\", \"Topic17\", \"Topic17\", \"Topic17\", \"Topic17\", \"Topic17\", \"Topic17\", \"Topic17\", \"Topic17\", \"Topic17\", \"Topic17\", \"Topic17\", \"Topic17\", \"Topic17\", \"Topic17\", \"Topic17\", \"Topic17\", \"Topic17\", \"Topic17\", \"Topic17\", \"Topic17\", \"Topic17\", \"Topic17\", \"Topic17\", \"Topic17\", \"Topic17\", \"Topic17\", \"Topic17\", \"Topic17\", \"Topic17\", \"Topic17\", \"Topic18\", \"Topic18\", \"Topic18\", \"Topic18\", \"Topic18\", \"Topic18\", \"Topic18\", \"Topic18\", \"Topic18\", \"Topic18\", \"Topic18\", \"Topic18\", \"Topic18\", \"Topic18\", \"Topic18\", \"Topic18\", \"Topic18\", \"Topic18\", \"Topic18\", \"Topic18\", \"Topic18\", \"Topic18\", \"Topic18\", \"Topic18\", \"Topic18\", \"Topic18\", \"Topic18\", \"Topic18\", \"Topic18\", \"Topic18\", \"Topic18\", \"Topic18\", \"Topic18\", \"Topic18\", \"Topic18\", \"Topic18\", \"Topic18\", \"Topic19\", \"Topic19\", \"Topic19\", \"Topic19\", \"Topic19\", \"Topic19\", \"Topic19\", \"Topic19\", \"Topic19\", \"Topic19\", \"Topic19\", \"Topic19\", \"Topic19\", \"Topic19\", \"Topic19\", \"Topic19\", \"Topic19\", \"Topic19\", \"Topic19\", \"Topic19\", \"Topic19\", \"Topic19\", \"Topic19\", \"Topic19\", \"Topic19\", \"Topic19\", \"Topic19\", \"Topic19\", \"Topic19\", \"Topic19\", \"Topic19\", \"Topic19\", \"Topic19\", \"Topic19\", \"Topic19\", \"Topic19\", \"Topic19\", \"Topic19\", \"Topic19\", \"Topic19\", \"Topic19\", \"Topic19\", \"Topic19\", \"Topic19\", \"Topic19\", \"Topic19\", \"Topic19\", \"Topic19\", \"Topic19\", \"Topic19\", \"Topic19\", \"Topic19\", \"Topic19\", \"Topic19\", \"Topic19\", \"Topic19\", \"Topic19\", \"Topic19\", \"Topic19\", \"Topic19\", \"Topic19\", \"Topic19\", \"Topic19\", \"Topic19\", \"Topic19\", \"Topic20\", \"Topic20\", \"Topic20\", \"Topic20\", \"Topic20\", \"Topic20\", \"Topic20\", \"Topic20\", \"Topic20\", \"Topic20\", \"Topic20\", \"Topic20\", \"Topic20\", \"Topic20\", \"Topic20\", \"Topic20\", \"Topic20\", \"Topic20\", \"Topic20\", \"Topic20\", \"Topic20\", \"Topic20\", \"Topic20\", \"Topic20\", \"Topic20\", \"Topic20\", \"Topic20\", \"Topic20\", \"Topic20\", \"Topic20\", \"Topic20\", \"Topic20\", \"Topic20\", \"Topic20\", \"Topic20\", \"Topic20\", \"Topic20\", \"Topic20\", \"Topic20\", \"Topic20\", \"Topic20\", \"Topic20\", \"Topic20\", \"Topic20\", \"Topic20\", \"Topic20\", \"Topic20\", \"Topic20\", \"Topic20\", \"Topic20\", \"Topic20\", \"Topic20\", \"Topic20\", \"Topic20\", \"Topic20\", \"Topic20\", \"Topic20\", \"Topic20\", \"Topic20\", \"Topic20\", \"Topic20\", \"Topic20\", \"Topic20\", \"Topic20\", \"Topic20\", \"Topic20\", \"Topic20\", \"Topic20\", \"Topic20\", \"Topic20\", \"Topic20\", \"Topic20\", \"Topic20\", \"Topic20\", \"Topic20\", \"Topic20\", \"Topic20\", \"Topic20\", \"Topic20\", \"Topic20\", \"Topic20\", \"Topic20\"], \"logprob\": [30.0, 29.0, 28.0, 27.0, 26.0, 25.0, 24.0, 23.0, 22.0, 21.0, 20.0, 19.0, 18.0, 17.0, 16.0, 15.0, 14.0, 13.0, 12.0, 11.0, 10.0, 9.0, 8.0, 7.0, 6.0, 5.0, 4.0, 3.0, 2.0, 1.0, -1.3336000442504883, -1.717900037765503, -1.889299988746643, -2.38100004196167, -2.608299970626831, -3.0969998836517334, -3.385499954223633, -3.4142000675201416, -3.434000015258789, -3.9226999282836914, -4.047399997711182, -4.073400020599365, -4.3084001541137695, -4.809599876403809, -5.826900005340576, -6.381700038909912, -6.411600112915039, -6.587800025939941, -7.101799964904785, -9.018899917602539, -13.612000465393066, -13.613300323486328, -13.613800048828125, -13.613100051879883, -13.613900184631348, -13.614999771118164, -13.615300178527832, -13.615099906921387, -13.615099906921387, -13.615300178527832, -13.614899635314941, -13.614999771118164, -13.614899635314941, -13.615099906921387, -1.5765999555587769, -1.7454999685287476, -2.252700090408325, -2.315700054168701, -2.6178998947143555, -2.676300048828125, -3.1900999546051025, -3.436000108718872, -3.4423999786376953, -3.697499990463257, -4.077199935913086, -4.1554999351501465, -4.3871002197265625, -4.594699859619141, -4.599599838256836, -4.619999885559082, -4.962600231170654, -4.964900016784668, -4.993500232696533, -5.065800189971924, -5.232800006866455, -5.272900104522705, -5.365600109100342, -5.435200214385986, -5.587100028991699, -6.530700206756592, -7.868299961090088, -8.10260009765625, -9.447699546813965, -13.276200294494629, -1.6004999876022339, -2.545099973678589, -2.706700086593628, -2.9256999492645264, -2.9335999488830566, -3.030100107192993, -3.1161999702453613, -3.2204999923706055, -3.240600109100342, -3.535399913787842, -3.652600049972534, -3.748199939727783, -3.769700050354004, -3.778599977493286, -3.7864999771118164, -4.10830020904541, -4.1528000831604, -4.2052001953125, -4.265100002288818, -4.282199859619141, -4.304800033569336, -4.389100074768066, -4.4166998863220215, -4.419300079345703, -4.51609992980957, -4.595799922943115, -4.727200031280518, -4.797299861907959, -4.890999794006348, -4.980299949645996, -0.5794000029563904, -2.178499937057495, -2.8722000122070312, -2.873300075531006, -2.9660000801086426, -3.3180999755859375, -3.4367001056671143, -4.370800018310547, -4.436200141906738, -4.497700214385986, -4.520899772644043, -4.639200210571289, -4.963900089263916, -5.212900161743164, -5.265100002288818, -6.9882001876831055, -13.079700469970703, -13.080100059509277, -13.080599784851074, -13.080400466918945, -13.080400466918945, -13.080699920654297, -13.080699920654297, -13.080699920654297, -13.0802001953125, -13.080699920654297, -13.080699920654297, -13.080599784851074, -13.080499649047852, -13.080699920654297, -13.080599784851074, -13.080499649047852, -13.078499794006348, -13.080400466918945, -13.077699661254883, -13.079999923706055, -13.07919979095459, -13.080100059509277, -13.079000473022461, -13.0802001953125, -13.079299926757812, -13.080300331115723, -13.0802001953125, -13.0802001953125, -13.080100059509277, -13.0802001953125, -13.0802001953125, -2.1821999549865723, -2.188499927520752, -2.283099889755249, -2.4560999870300293, -2.609100103378296, -2.776700019836426, -2.912100076675415, -2.942199945449829, -2.973400115966797, -3.0590999126434326, -3.2004001140594482, -3.851099967956543, -3.8594000339508057, -4.0071001052856445, -4.112100124359131, -4.145899772644043, -4.181300163269043, -4.512199878692627, -4.687699794769287, -4.766600131988525, -4.782599925994873, -4.80649995803833, -4.886600017547607, -5.185800075531006, -5.6381001472473145, -6.4355998039245605, -7.070300102233887, -9.807299613952637, -12.511199951171875, -12.513699531555176, -12.512299537658691, -1.093500018119812, -1.126099944114685, -2.080199956893921, -2.3148000240325928, -2.81030011177063, -4.21120023727417, -6.057300090789795, -12.33650016784668, -12.337699890136719, -12.338500022888184, -12.339599609375, -12.338299751281738, -12.339799880981445, -12.338700294494629, -12.34000015258789, -12.339799880981445, -12.340200424194336, -12.340200424194336, -12.339699745178223, -12.339900016784668, -12.339799880981445, -12.34000015258789, -12.34000015258789, -12.340299606323242, -12.34000015258789, -12.340200424194336, -12.339900016784668, -12.340200424194336, -12.34000015258789, -12.339900016784668, -12.339799880981445, -12.339900016784668, -12.339699745178223, -12.340100288391113, -12.339699745178223, -12.34000015258789, -1.3459999561309814, -2.1935999393463135, -2.3738999366760254, -2.408099889755249, -3.0648000240325928, -3.1905999183654785, -3.292799949645996, -3.296099901199341, -3.430799961090088, -3.516700029373169, -3.668299913406372, -3.7372000217437744, -3.8296000957489014, -3.9686999320983887, -4.054599761962891, -4.072299957275391, -4.530900001525879, -4.55620002746582, -4.66510009765625, -4.899199962615967, -5.009500026702881, -5.300899982452393, -5.605199813842773, -5.708000183105469, -6.306000232696533, -6.4944000244140625, -6.774499893188477, -12.447199821472168, -12.44540023803711, -12.446999549865723, -12.446900367736816, -1.0341999530792236, -1.2711000442504883, -2.1191000938415527, -2.230600118637085, -2.476599931716919, -4.499899864196777, -5.302700042724609, -12.426300048828125, -12.42959976196289, -12.429100036621094, -12.429100036621094, -12.429200172424316, -12.429400444030762, -12.429499626159668, -12.42959976196289, -12.429800033569336, -12.429100036621094, -12.429699897766113, -12.429699897766113, -12.427599906921387, -12.429100036621094, -12.427300453186035, -12.429499626159668, -12.429800033569336, -12.429800033569336, -12.429800033569336, -12.429499626159668, -12.429800033569336, -12.429499626159668, -12.429699897766113, -12.429100036621094, -12.429300308227539, -12.429300308227539, -12.42959976196289, -12.429400444030762, -12.428099632263184, -12.429400444030762, -12.429100036621094, -12.429300308227539, -12.428199768066406, -12.428999900817871, -12.429300308227539, -12.428999900817871, -12.429100036621094, -12.429200172424316, -12.429300308227539, -12.429200172424316, -12.429300308227539, -12.429300308227539, -12.429100036621094, -0.9667999744415283, -2.64739990234375, -2.684299945831299, -2.9581000804901123, -3.0464000701904297, -3.1445000171661377, -3.1861000061035156, -3.2632999420166016, -3.398900032043457, -3.418299913406372, -3.7151999473571777, -3.8066999912261963, -3.9484000205993652, -3.9941999912261963, -4.024899959564209, -4.251699924468994, -4.323200225830078, -4.8902997970581055, -5.106299877166748, -5.499800205230713, -5.659599781036377, -5.704599857330322, -6.298900127410889, -6.467400074005127, -6.715000152587891, -9.332500457763672, -12.506699562072754, -12.506999969482422, -12.506999969482422, -12.506999969482422, -12.506400108337402, -12.50469970703125, -12.50529956817627, -12.505399703979492, -12.50409984588623, -12.50529956817627, -0.6216999888420105, -2.2639999389648438, -2.338599920272827, -2.414400100708008, -2.4172000885009766, -3.04010009765625, -9.086299896240234, -12.435400009155273, -12.435700416564941, -12.435799598693848, -12.43589973449707, -12.435999870300293, -12.43589973449707, -12.43589973449707, -12.435999870300293, -12.435999870300293, -12.43589973449707, -12.43589973449707, -12.43589973449707, -12.43589973449707, -12.435999870300293, -12.435999870300293, -12.435999870300293, -12.435999870300293, -12.435999870300293, -12.43589973449707, -12.43589973449707, -12.43589973449707, -12.435999870300293, -12.435999870300293, -12.43589973449707, -12.43589973449707, -12.435700416564941, -12.435700416564941, -12.43529987335205, -12.43589973449707, -12.43589973449707, -12.434300422668457, -12.435700416564941, -12.435500144958496, -12.435400009155273, -12.435700416564941, -12.434000015258789, -12.435400009155273, -12.435600280761719, -12.433799743652344, -12.43529987335205, -12.435199737548828, -12.433099746704102, -12.435600280761719, -12.43529987335205, -12.435700416564941, -12.435700416564941, -12.434499740600586, -12.435400009155273, -12.435500144958496, -12.435199737548828, -12.435400009155273, -12.43529987335205, -12.435500144958496, -12.435400009155273, -12.435400009155273, -12.435500144958496, -12.435500144958496, -12.435400009155273, -0.7247999906539917, -2.0515999794006348, -2.4584999084472656, -2.506500005722046, -2.651400089263916, -2.7558000087738037, -3.277400016784668, -4.7754998207092285, -5.277200222015381, -7.42579984664917, -12.494000434875488, -12.494000434875488, -12.494000434875488, -12.494000434875488, -12.494099617004395, -12.494099617004395, -12.494099617004395, -12.494000434875488, -12.494000434875488, -12.493900299072266, -12.494000434875488, -12.494000434875488, -12.494099617004395, -12.494099617004395, -12.494099617004395, -12.494099617004395, -12.494099617004395, -12.494000434875488, -12.494000434875488, -12.494099617004395, -12.49370002746582, -12.493900299072266, -12.493800163269043, -12.493900299072266, -12.493900299072266, -12.493800163269043, -12.493800163269043, -12.493499755859375, -12.49370002746582, -12.492500305175781, -12.493800163269043, -12.493800163269043, -12.493800163269043, -12.492600440979004, -12.493300437927246, -12.49370002746582, -12.493599891662598, -12.493499755859375, -12.493499755859375, -12.492400169372559, -12.493599891662598, -12.492199897766113, -12.491600036621094, -12.493399620056152, -12.493399620056152, -12.493499755859375, -12.493499755859375, -12.493499755859375, -12.493499755859375, -12.493599891662598, -12.493599891662598, -12.493599891662598, -12.493599891662598, -12.493499755859375, -2.033099889755249, -2.2572999000549316, -2.3684000968933105, -2.4921998977661133, -2.5053000450134277, -2.6108999252319336, -3.032099962234497, -3.267699956893921, -3.2780001163482666, -3.521399974822998, -3.533900022506714, -3.6821999549865723, -3.7005999088287354, -3.908099889755249, -4.096799850463867, -4.103600025177002, -4.11359977722168, -4.206600189208984, -4.344200134277344, -4.506800174713135, -4.612800121307373, -4.768199920654297, -4.9095001220703125, -5.01800012588501, -5.189700126647949, -5.2220001220703125, -5.227499961853027, -6.171500205993652, -6.388800144195557, -6.676499843597412, -1.357300043106079, -1.5139000415802002, -2.685499906539917, -2.812000036239624, -2.9398999214172363, -2.973599910736084, -3.0882999897003174, -3.097899913787842, -3.176800012588501, -3.664599895477295, -4.014200210571289, -4.184199810028076, -4.185699939727783, -4.423799991607666, -4.599899768829346, -4.65369987487793, -5.731299877166748, -5.855000019073486, -5.953199863433838, -9.366299629211426, -12.246600151062012, -12.247300148010254, -12.247400283813477, -12.247400283813477, -12.247699737548828, -12.247699737548828, -12.247699737548828, -12.2475004196167, -12.247699737548828, -12.247599601745605, -12.244400024414062, -12.24530029296875, -12.247099876403809, -12.246100425720215, -12.245699882507324, -12.246899604797363, -12.246100425720215, -12.247099876403809, -12.246999740600586, -12.246999740600586, -1.3480000495910645, -1.573699951171875, -2.2042999267578125, -2.2362000942230225, -3.0445001125335693, -3.1001999378204346, -3.3417999744415283, -3.6684000492095947, -3.783799886703491, -4.170400142669678, -4.274499893188477, -4.283999919891357, -4.945099830627441, -4.994500160217285, -5.020199775695801, -5.071700096130371, -5.5345001220703125, -5.582699775695801, -5.707099914550781, -5.7967000007629395, -5.806600093841553, -6.5665998458862305, -6.661300182342529, -7.145400047302246, -12.125, -12.125300407409668, -12.125200271606445, -12.12559986114502, -12.125800132751465, -12.12559986114502, -12.125100135803223, -12.123499870300293, -12.124199867248535, -12.12279987335205, -12.124199867248535, -12.124099731445312, -1.277400016784668, -2.069700002670288, -2.3477001190185547, -2.960599899291992, -3.063800096511841, -3.1463000774383545, -3.193000078201294, -3.194200038909912, -3.291800022125244, -3.571500062942505, -3.7291998863220215, -3.780900001525879, -4.161300182342529, -4.291399955749512, -4.392499923706055, -4.414599895477295, -4.433300018310547, -4.55019998550415, -4.795000076293945, -4.849999904632568, -4.854899883270264, -4.908299922943115, -5.012700080871582, -7.36359977722168, -7.61269998550415, -9.46560001373291, -12.13659954071045, -12.136699676513672, -12.136799812316895, -12.136500358581543, -12.133999824523926, -12.135499954223633, -12.134900093078613, -12.135299682617188, -0.9605000019073486, -1.452299952507019, -1.8809000253677368, -3.3510000705718994, -3.6335999965667725, -3.7981998920440674, -4.088699817657471, -4.096199989318848, -4.1819000244140625, -4.203100204467773, -4.309800148010254, -4.557000160217285, -5.016200065612793, -5.974599838256836, -12.102700233459473, -12.102899551391602, -12.102899551391602, -12.102899551391602, -12.102700233459473, -12.102999687194824, -12.102999687194824, -12.102800369262695, -12.10260009765625, -12.102899551391602, -12.102999687194824, -12.102899551391602, -12.102899551391602, -12.102999687194824, -12.102999687194824, -12.102999687194824, -12.10260009765625, -12.102899551391602, -12.10260009765625, -12.102499961853027, -12.10260009765625, -12.102800369262695, -12.101300239562988, -12.102499961853027, -12.100000381469727, -12.10219955444336, -12.100899696350098, -12.102299690246582, -12.101499557495117, -12.101200103759766, -12.102399826049805, -12.102399826049805, -12.102100372314453, -12.10219955444336, -12.102299690246582, -12.102399826049805, -12.102399826049805, -12.102399826049805, -12.102399826049805, -1.4430999755859375, -2.1494998931884766, -2.3798000812530518, -2.4572999477386475, -3.0118000507354736, -3.152899980545044, -3.1758999824523926, -3.1767001152038574, -3.217900037765503, -3.3636999130249023, -3.3965001106262207, -3.849400043487549, -3.9595999717712402, -4.070899963378906, -4.077099800109863, -4.149700164794922, -4.303999900817871, -4.503699779510498, -4.808199882507324, -6.893799781799316, -11.897899627685547, -11.898099899291992, -11.898200035095215, -11.898200035095215, -11.898300170898438, -11.898300170898438, -11.897299766540527, -11.898300170898438, -11.89840030670166, -11.89840030670166, -11.89799976348877, -11.898099899291992, -11.89799976348877, -11.896900177001953, -11.89780044555664, -11.895700454711914, -11.896599769592285, -11.896499633789062, -11.897100448608398, -11.897700309753418, -11.89780044555664, -11.89780044555664, -11.897700309753418, -11.897700309753418, -0.9502999782562256, -2.049999952316284, -2.1963000297546387, -2.3018999099731445, -2.658600091934204, -3.060699939727783, -3.6120998859405518, -3.7683000564575195, -4.567699909210205, -5.118599891662598, -6.190299987792969, -6.289599895477295, -8.226099967956543, -8.523300170898438, -11.568400382995605, -11.565400123596191, -11.566399574279785, -11.566699981689453, -11.567099571228027, -11.567999839782715, -11.56820011138916, -11.568599700927734, -11.567299842834473, -11.569000244140625, -11.56879997253418, -11.568900108337402, -11.568400382995605, -11.568400382995605, -11.56820011138916, -11.568699836730957, -11.56820011138916, -11.568400382995605, -11.568499565124512, -11.568599700927734, -11.568599700927734, -11.568400382995605, -11.568499565124512, -0.5630999803543091, -2.0107998847961426, -2.402100086212158, -2.4024999141693115, -3.5304999351501465, -3.9103000164031982, -4.779900074005127, -4.853099822998047, -5.650899887084961, -9.700400352478027, -12.178799629211426, -12.178899765014648, -12.178899765014648, -12.178799629211426, -12.178799629211426, -12.178899765014648, -12.178899765014648, -12.178799629211426, -12.178799629211426, -12.178899765014648, -12.178899765014648, -12.178899765014648, -12.178899765014648, -12.178899765014648, -12.178899765014648, -12.178799629211426, -12.178899765014648, -12.178899765014648, -12.178899765014648, -12.178899765014648, -12.178899765014648, -12.17870044708252, -12.178899765014648, -12.178799629211426, -12.17870044708252, -12.17870044708252, -12.17870044708252, -12.178600311279297, -12.176199913024902, -12.178799629211426, -12.178500175476074, -12.17870044708252, -12.178500175476074, -12.178199768066406, -12.17870044708252, -12.178500175476074, -12.178299903869629, -12.177399635314941, -12.178500175476074, -12.17770004272461, -12.178400039672852, -12.178400039672852, -12.178400039672852, -12.177300453186035, -12.178600311279297, -12.178500175476074, -12.177800178527832, -12.178199768066406, -12.178400039672852, -12.178400039672852, -12.178400039672852, -12.178500175476074, -12.178400039672852, -12.178500175476074, -12.178500175476074, -0.5935999751091003, -1.1900999546051025, -2.7855000495910645, -3.017899990081787, -5.117099761962891, -12.726300239562988, -12.728599548339844, -12.728599548339844, -12.728599548339844, -12.728599548339844, -12.728599548339844, -12.728599548339844, -12.728599548339844, -12.728599548339844, -12.728599548339844, -12.728599548339844, -12.728599548339844, -12.728599548339844, -12.728599548339844, -12.728599548339844, -12.728599548339844, -12.728599548339844, -12.728599548339844, -12.728599548339844, -12.728699684143066, -12.728599548339844, -12.728599548339844, -12.728599548339844, -12.728599548339844, -12.728599548339844, -12.728599548339844, -12.728599548339844, -12.728599548339844, -12.728599548339844, -12.728599548339844, -12.728599548339844, -12.728300094604492, -12.728599548339844, -12.728599548339844, -12.728599548339844, -12.728599548339844, -12.728400230407715, -12.728599548339844, -12.728300094604492, -12.728300094604492, -12.728400230407715, -12.728500366210938, -12.728400230407715, -12.728400230407715, -12.728400230407715, -12.728500366210938, -12.728300094604492, -12.728500366210938, -12.728400230407715, -12.728500366210938, -12.728500366210938, -12.728500366210938, -12.728400230407715, -12.728400230407715, -12.728500366210938, -12.728400230407715, -12.728400230407715, -12.728300094604492, -12.727299690246582, -12.728400230407715, -12.727700233459473, -12.72819995880127, -12.726900100708008, -12.72819995880127, -12.72819995880127, -12.728099822998047, -12.727700233459473, -12.728300094604492, -12.728300094604492, -12.72819995880127, -12.728400230407715, -12.728300094604492, -12.728300094604492, -12.728300094604492, -12.728300094604492, -12.728400230407715, -12.728400230407715], \"loglift\": [30.0, 29.0, 28.0, 27.0, 26.0, 25.0, 24.0, 23.0, 22.0, 21.0, 20.0, 19.0, 18.0, 17.0, 16.0, 15.0, 14.0, 13.0, 12.0, 11.0, 10.0, 9.0, 8.0, 7.0, 6.0, 5.0, 4.0, 3.0, 2.0, 1.0, 1.9451, 1.945, 1.945, 1.9449, 1.9448, 1.9446, 1.9445, 1.9444, 1.9444, 1.944, 1.9438, 1.9438, 1.9435, 1.9424, 1.9375, 1.9318, 1.9314, 1.9288, 1.918, 1.7735, -1.0288, -1.0289, -1.0289, -1.0289, -1.029, -1.0291, -1.0291, -1.0291, -1.0291, -1.0291, -1.0291, -1.0292, -1.0293, -1.0292, 2.092, 2.092, 2.0919, 2.0919, 2.0918, 2.0918, 2.0915, 2.0914, 2.0914, 2.0911, 2.0906, 2.0905, 2.0901, 2.0896, 2.0896, 2.0895, 2.0885, 2.0884, 2.0883, 2.0881, 2.0873, 2.0871, 2.0866, 2.0862, 2.0853, 2.0745, 2.0265, 2.0098, 1.8074, -0.693, 2.5125, 2.5121, 2.5121, 2.5119, 2.5119, 2.5118, 2.5117, 2.5116, 2.5116, 2.5113, 2.5111, 2.5109, 2.5109, 2.5109, 2.5109, 2.5102, 2.5101, 2.51, 2.5098, 2.5097, 2.5097, 2.5094, 2.5093, 2.5093, 2.509, 2.5087, 2.5081, 2.5078, 2.5073, 2.5068, 2.87, 2.8696, 2.869, 2.869, 2.8689, 2.8685, 2.8683, 2.8655, 2.8652, 2.8649, 2.8647, 2.8641, 2.8618, 2.8594, 2.8589, 2.8089, -0.494, -0.494, -0.4941, -0.4941, -0.4941, -0.4941, -0.4941, -0.4941, -0.4941, -0.4941, -0.4941, -0.4941, -0.4941, -0.4941, -0.4941, -0.4941, -0.4944, -0.4941, -0.4945, -0.4942, -0.4944, -0.4942, -0.4945, -0.4942, -0.4944, -0.4942, -0.4942, -0.4942, -0.4943, -0.4942, -0.4945, 2.8825, 2.8825, 2.8825, 2.8824, 2.8823, 2.8821, 2.882, 2.8819, 2.8819, 2.8818, 2.8816, 2.8803, 2.8803, 2.8799, 2.8795, 2.8794, 2.8793, 2.8778, 2.8768, 2.8763, 2.8762, 2.876, 2.8755, 2.8728, 2.867, 2.8479, 2.8177, 2.1689, 0.072, 0.0719, 0.0719, 2.9863, 2.9862, 2.9859, 2.9858, 2.9854, 2.9822, 2.9597, 0.2467, 0.2465, 0.2463, 0.2463, 0.2462, 0.2462, 0.2462, 0.2461, 0.2461, 0.2461, 0.2461, 0.2461, 0.2461, 0.2461, 0.2461, 0.2461, 0.2461, 0.2461, 0.2461, 0.2461, 0.2461, 0.2461, 0.2461, 0.2461, 0.2461, 0.246, 0.246, 0.2459, 0.246, 3.0367, 3.0363, 3.0362, 3.0362, 3.0355, 3.0353, 3.0351, 3.0351, 3.0349, 3.0347, 3.0343, 3.0341, 3.0338, 3.0334, 3.0331, 3.033, 3.0307, 3.0305, 3.0298, 3.0279, 3.0269, 3.0235, 3.0188, 3.0169, 3.0007, 2.9934, 2.9797, 0.1384, 0.1378, 0.1375, 0.1373, 3.1505, 3.1505, 3.1501, 3.1501, 3.1499, 3.144, 3.1356, 0.157, 0.1569, 0.1569, 0.1569, 0.1569, 0.1569, 0.1569, 0.1569, 0.1569, 0.1569, 0.1569, 0.1569, 0.1569, 0.1569, 0.1569, 0.1569, 0.1568, 0.1568, 0.1568, 0.1568, 0.1568, 0.1568, 0.1568, 0.1568, 0.1568, 0.1568, 0.1568, 0.1568, 0.1567, 0.1568, 0.1568, 0.1568, 0.1567, 0.1568, 0.1568, 0.1568, 0.1568, 0.1568, 0.1568, 0.1567, 0.1568, 0.1568, 0.1565, 3.2166, 3.2157, 3.2156, 3.2152, 3.2151, 3.2149, 3.2148, 3.2147, 3.2144, 3.2143, 3.2135, 3.2131, 3.2126, 3.2124, 3.2123, 3.2111, 3.2107, 3.206, 3.2034, 3.1971, 3.1937, 3.1926, 3.1734, 3.1656, 3.1517, 2.5637, 0.0796, 0.0796, 0.0796, 0.0796, 0.0796, 0.0795, 0.0795, 0.0794, 0.0791, 0.0792, 3.2233, 3.2227, 3.2226, 3.2226, 3.2226, 3.2218, 2.6794, 0.1508, 0.1508, 0.1507, 0.1507, 0.1507, 0.1507, 0.1507, 0.1507, 0.1507, 0.1507, 0.1507, 0.1507, 0.1507, 0.1507, 0.1507, 0.1507, 0.1507, 0.1507, 0.1507, 0.1507, 0.1507, 0.1507, 0.1507, 0.1507, 0.1507, 0.1507, 0.1507, 0.1506, 0.1507, 0.1507, 0.1506, 0.1507, 0.1506, 0.1506, 0.1507, 0.1504, 0.1506, 0.1506, 0.1504, 0.1506, 0.1506, 0.1501, 0.1506, 0.1506, 0.1506, 0.1507, 0.1504, 0.1506, 0.1506, 0.1505, 0.1506, 0.1505, 0.1506, 0.1506, 0.1505, 0.1506, 0.1505, 0.1503, 3.2464, 3.2459, 3.2456, 3.2456, 3.2454, 3.2453, 3.2444, 3.2367, 3.2303, 3.1146, 0.0926, 0.0926, 0.0926, 0.0926, 0.0926, 0.0926, 0.0926, 0.0926, 0.0926, 0.0926, 0.0926, 0.0926, 0.0926, 0.0926, 0.0926, 0.0926, 0.0926, 0.0926, 0.0926, 0.0926, 0.0926, 0.0926, 0.0926, 0.0926, 0.0926, 0.0926, 0.0926, 0.0925, 0.0926, 0.0923, 0.0926, 0.0926, 0.0926, 0.0923, 0.0925, 0.0925, 0.0925, 0.0924, 0.0924, 0.092, 0.0925, 0.0919, 0.0916, 0.0924, 0.0924, 0.0924, 0.0924, 0.0924, 0.0924, 0.0925, 0.0925, 0.0924, 0.0924, 0.0922, 3.2686, 3.2684, 3.2683, 3.2682, 3.2682, 3.2681, 3.2675, 3.267, 3.267, 3.2663, 3.2663, 3.2658, 3.2658, 3.265, 3.2641, 3.2641, 3.264, 3.2635, 3.2627, 3.2615, 3.2606, 3.2592, 3.2577, 3.2564, 3.254, 3.2535, 3.2534, 3.229, 3.2195, 3.2035, 3.2915, 3.2914, 3.2906, 3.2904, 3.2902, 3.2901, 3.2899, 3.2899, 3.2898, 3.2884, 3.287, 3.2861, 3.2861, 3.2846, 3.2832, 3.2827, 3.2653, 3.2619, 3.2589, 2.5897, 0.339, 0.339, 0.3389, 0.3389, 0.3389, 0.3389, 0.3389, 0.3389, 0.3389, 0.3389, 0.3388, 0.3388, 0.3388, 0.3388, 0.3387, 0.3388, 0.3387, 0.3388, 0.3388, 0.3388, 3.4082, 3.4081, 3.4077, 3.4077, 3.4065, 3.4064, 3.4058, 3.4048, 3.4043, 3.4023, 3.4016, 3.4015, 3.3949, 3.3942, 3.3939, 3.3931, 3.3841, 3.3829, 3.3795, 3.3769, 3.3766, 3.3413, 3.3349, 3.2916, 0.4608, 0.4608, 0.4608, 0.4608, 0.4608, 0.4608, 0.4607, 0.4606, 0.4607, 0.4604, 0.4606, 0.4604, 3.4226, 3.4221, 3.4219, 3.421, 3.4208, 3.4206, 3.4205, 3.4205, 3.4203, 3.4194, 3.4188, 3.4186, 3.4166, 3.4157, 3.4149, 3.4147, 3.4146, 3.4136, 3.411, 3.4103, 3.4103, 3.4096, 3.4081, 3.2773, 3.2396, 2.5973, 0.4496, 0.4496, 0.4496, 0.4495, 0.4492, 0.4494, 0.4492, 0.4492, 3.4795, 3.4793, 3.479, 3.4767, 3.4758, 3.475, 3.4735, 3.4734, 3.4729, 3.4727, 3.4719, 3.4697, 3.464, 3.4391, 0.4838, 0.4837, 0.4837, 0.4837, 0.4837, 0.4837, 0.4837, 0.4837, 0.4837, 0.4837, 0.4837, 0.4837, 0.4837, 0.4837, 0.4837, 0.4837, 0.4837, 0.4837, 0.4837, 0.4837, 0.4837, 0.4837, 0.4835, 0.4836, 0.4832, 0.4836, 0.4833, 0.4836, 0.4834, 0.4833, 0.4836, 0.4836, 0.4835, 0.4835, 0.4835, 0.4836, 0.4836, 0.4835, 0.4835, 3.552, 3.5515, 3.5512, 3.5511, 3.5502, 3.5498, 3.5497, 3.5497, 3.5496, 3.5492, 3.5491, 3.5472, 3.5466, 3.5459, 3.5458, 3.5453, 3.5441, 3.5423, 3.5388, 3.4473, 0.6883, 0.6883, 0.6883, 0.6883, 0.6883, 0.6883, 0.6883, 0.6883, 0.6883, 0.6883, 0.6883, 0.6883, 0.6882, 0.688, 0.6882, 0.6875, 0.6878, 0.6877, 0.6878, 0.6881, 0.6881, 0.6881, 0.688, 0.688, 3.5871, 3.5865, 3.5863, 3.5862, 3.5857, 3.5849, 3.5832, 3.5824, 3.5764, 3.5685, 3.5332, 3.5277, 3.2324, 3.1339, 1.0179, 1.0178, 1.0178, 1.0178, 1.0177, 1.0177, 1.0176, 1.0176, 1.0176, 1.0176, 1.0176, 1.0176, 1.0176, 1.0175, 1.0175, 1.0175, 1.0175, 1.0175, 1.0175, 1.0175, 1.0175, 1.0175, 1.0175, 3.6147, 3.614, 3.6136, 3.6136, 3.6108, 3.6089, 3.6005, 3.5994, 3.5809, 2.5202, 0.4078, 0.4078, 0.4078, 0.4078, 0.4078, 0.4078, 0.4078, 0.4078, 0.4078, 0.4078, 0.4078, 0.4078, 0.4078, 0.4078, 0.4078, 0.4078, 0.4078, 0.4078, 0.4078, 0.4078, 0.4078, 0.4078, 0.4078, 0.4078, 0.4077, 0.4077, 0.4077, 0.4077, 0.407, 0.4077, 0.4077, 0.4077, 0.4076, 0.4075, 0.4077, 0.4076, 0.4075, 0.4071, 0.4076, 0.4072, 0.4075, 0.4076, 0.4075, 0.4069, 0.4077, 0.4076, 0.4071, 0.4074, 0.4075, 0.4075, 0.4074, 0.4075, 0.4075, 0.4075, 0.4075, 3.695, 3.6948, 3.6931, 3.6925, 3.673, -0.1418, -0.142, -0.142, -0.142, -0.142, -0.142, -0.142, -0.142, -0.142, -0.142, -0.142, -0.142, -0.142, -0.142, -0.142, -0.142, -0.142, -0.142, -0.142, -0.142, -0.142, -0.142, -0.142, -0.142, -0.142, -0.142, -0.142, -0.142, -0.142, -0.142, -0.142, -0.142, -0.142, -0.142, -0.142, -0.142, -0.142, -0.142, -0.1421, -0.1421, -0.1421, -0.142, -0.1421, -0.142, -0.142, -0.142, -0.1421, -0.142, -0.1421, -0.1421, -0.142, -0.142, -0.1421, -0.1421, -0.142, -0.1421, -0.1421, -0.1422, -0.1431, -0.1421, -0.1428, -0.1423, -0.1437, -0.1423, -0.1423, -0.1424, -0.1429, -0.1422, -0.1423, -0.1424, -0.1422, -0.1424, -0.1424, -0.1424, -0.1424, -0.1423, -0.1422]}, \"token.table\": {\"Topic\": [12, 12, 14, 19, 9, 15, 5, 4, 15, 14, 5, 15, 1, 2, 2, 17, 20, 9, 9, 4, 7, 9, 12, 17, 11, 5, 2, 9, 3, 3, 18, 5, 15, 13, 14, 2, 9, 16, 19, 11, 12, 18, 2, 2, 6, 12, 7, 17, 7, 2, 2, 11, 9, 15, 9, 13, 13, 9, 7, 13, 1, 14, 12, 9, 5, 2, 15, 2, 3, 11, 17, 14, 14, 5, 15, 8, 14, 7, 14, 2, 2, 12, 9, 1, 7, 14, 3, 13, 3, 5, 17, 15, 9, 8, 5, 15, 11, 9, 7, 16, 1, 2, 13, 3, 12, 3, 3, 2, 11, 13, 9, 3, 2, 3, 13, 9, 12, 12, 4, 5, 20, 16, 3, 12, 15, 12, 5, 17, 20, 3, 18, 15, 3, 19, 17, 4, 13, 6, 4, 8, 4, 4, 16, 10, 15, 5, 9, 1, 3, 8, 17, 3, 20, 13, 1, 19, 3, 17, 7, 12, 2, 15, 14, 13, 1, 14, 3, 5, 10, 15, 3, 9, 4, 14, 4, 7, 2, 16, 13, 5, 7, 12, 3, 7, 5, 5, 16, 2, 14, 15, 12, 4, 1, 9, 18, 3, 1, 7, 17, 2, 18, 17, 13, 12, 13, 15, 13, 12, 13, 7, 14, 10, 5, 6, 7, 4, 15, 9, 13, 17, 5, 7, 7, 10, 2, 12, 4, 5, 7, 2, 8, 1, 12, 14, 19, 15, 5, 1, 2, 16, 2, 16, 2, 11, 11, 14, 6, 15, 5, 9, 16, 7, 12, 1, 16, 12, 18, 9, 12, 1, 3, 12, 12, 19, 14, 8, 19, 19, 11, 12, 6, 6, 18, 7, 3, 17, 12, 1, 2, 18, 20, 14, 18, 1, 12, 18, 7, 2, 5, 19, 14, 14, 11, 3, 7, 4, 12, 17, 15, 5, 9, 10, 3, 7, 3, 8, 17, 9, 17, 17, 14, 7, 3, 3, 18, 7, 15, 3, 16, 13, 18, 10, 12, 15, 9, 1, 5, 5, 13, 13, 18, 15, 1, 2, 17, 12, 7, 14, 9, 4, 5, 5, 2, 9, 15, 16, 17, 19, 7, 4, 14, 15, 6, 5, 18, 3, 16, 1, 16, 4, 2, 15, 3, 1, 7, 10, 1, 5, 14, 17], \"Freq\": [0.9983558718352297, 0.9991875345464718, 0.9989984546410227, 0.9971802394441874, 0.9676604885977832, 0.9967249751710054, 0.9974647258823429, 0.9871930513292297, 0.9915569640110997, 0.9992015224865679, 0.9985258044485616, 0.9835120130558579, 0.9990961199597171, 0.9996882112458272, 0.9965214273641118, 0.9984897891826118, 0.9968834097990831, 0.9955716651370979, 0.9981893224630743, 0.9602877473498196, 0.9948637396631324, 0.9997978551428611, 0.993000227833239, 0.9949598721730272, 0.9888236229311268, 0.992650745118526, 0.9959513793865791, 0.999053143110574, 0.9989215385752105, 0.9988217139389498, 0.9968718627452887, 0.914509395919543, 0.9949891728316455, 0.9959509371992381, 0.9905950120863962, 0.9997136475115934, 0.9950793454743828, 0.9904083498850955, 0.9726134488351512, 0.9878667563951958, 0.993692859711075, 0.9986664435617234, 0.9762135262047448, 0.9949242962111128, 0.9948093455234694, 0.9799743621823915, 0.9958014251444789, 0.9929478983059241, 0.9966744008768382, 0.9157186477051648, 0.9998783584073488, 0.8779815552913682, 0.9984289865798365, 0.9966701533807196, 0.9567422327672374, 0.9914610306725801, 0.9938335373147829, 0.9747935193854917, 0.9982608549465217, 0.9976965377117625, 0.984927804856662, 0.9822127945808945, 0.9967307418528251, 0.9980089913241879, 0.9961365697976148, 0.9207331305354288, 0.9991399933288613, 0.995096088673903, 0.995565072221789, 0.9986951181717091, 0.9930280981223695, 0.9903527734636296, 0.9996721114772096, 0.9992499513594039, 0.9982390658395727, 0.9991648037628108, 0.9805357873510816, 0.9499783353948328, 0.9912917215378969, 0.9926201752685554, 0.9985983382131116, 0.9967523918428223, 0.9908055991115878, 0.998531849401259, 0.9906319347365833, 0.9328914400837444, 0.9997705718541473, 0.9768790291780575, 0.9935562181087839, 0.9864720408742431, 0.9956744756722149, 0.992034693484353, 0.9988886602225387, 0.9871438701956448, 0.9971485359699468, 0.9973600569592698, 0.999871379425101, 0.6813170617815844, 0.9599450221318866, 0.9917732466058932, 0.9862910249360074, 0.999304620768834, 0.9983177173690801, 0.9980249235901235, 0.9984589378317422, 0.999281695578717, 0.9985036463329398, 0.9971600807263549, 0.9986669621660113, 0.9751331504322975, 0.9981191760679334, 0.9950540955056651, 0.9978066484184774, 0.9984589215779183, 0.998136940448726, 0.9399866520849798, 0.9988477920515959, 0.9899449094608843, 0.9940043520585018, 0.9995771443495015, 0.9994847939225109, 0.9991472250181113, 0.9973637202132248, 0.995956946734537, 0.986594850858996, 0.9955085736730147, 0.9993367393984404, 0.9967460002584455, 0.999717685994482, 0.9989597458715493, 0.9914040322013923, 0.8395818332809096, 0.9961635007255598, 0.9991086769217062, 0.9975431440591211, 0.9953061794001709, 0.9943768058294103, 0.9993396313917663, 0.9895989713744187, 0.999748629183985, 0.9965352945276443, 0.9990775452899451, 0.9995395870028868, 0.9998340650784184, 0.8737081784240759, 0.3689939963393983, 0.9864935415806679, 0.9999041361663373, 0.9962405297867122, 0.9993294061201937, 0.9973500454949373, 0.9992900506267955, 0.9762232906709225, 0.998722642594889, 0.997743347425555, 0.9986255511904362, 0.9955618942860812, 0.9959065724669758, 0.9986004874670853, 0.9941242598673382, 0.9963682514884328, 0.9934347191832534, 0.9712686355198072, 0.9728273797482193, 0.9851612746570493, 0.9971406883990015, 0.9982214916091445, 0.9940018299594456, 0.9988996281078849, 0.989173292331536, 0.9989282216098699, 0.9974030278342563, 0.9979168923702014, 0.9985167729827521, 0.9942605802799526, 0.9991981807367365, 0.9990817613401372, 0.994743483236234, 0.9945708781282719, 0.9941577068002377, 0.9951778036781973, 0.9547958387898976, 0.994624225277153, 0.9974114255323994, 0.9907983529760789, 0.9955981468751923, 0.9966520328603982, 0.9982632227375025, 0.9932291462573625, 0.9938900957562131, 0.9888134056109483, 0.9947170807867632, 0.9993860278063122, 0.9986934488980067, 0.6596652746324454, 0.9977447195761737, 0.9994143923808165, 0.993601351869583, 0.9995852389412135, 0.999864731968171, 0.5365028440081043, 0.9955539601622144, 0.9995920023123165, 0.9994663059720006, 0.9981931940655451, 0.9928304985432891, 0.9928043889796171, 0.9985962307013223, 0.9987448191898768, 0.9983527265798697, 0.9816869607928599, 0.9991180050354923, 0.9742623882419695, 0.999834610918929, 0.9996939474706487, 0.9991105976508232, 0.9879893328592294, 0.9986001248289349, 0.9997753708616298, 0.9890277593968984, 0.9987875214892727, 0.9989930192585481, 0.996729597165211, 0.9990781131407676, 0.9948777867812495, 0.9950691779933816, 0.9975650495829466, 0.9989499107870857, 0.9980295632652845, 0.9979164102867786, 0.9993825889141542, 0.9987643808428436, 0.9835043562853839, 0.9717071724918529, 0.9990178517231396, 0.9974855427671978, 0.9986311273132134, 0.9898063367180235, 0.9925504239412449, 0.9845075001371226, 0.9979537510973003, 0.9910498266146358, 0.7177098573283476, 0.9992275829049563, 0.9975590457053465, 0.9957469277535086, 0.9995444367804217, 0.9804941006179573, 0.9929629563184321, 0.9941308833298297, 0.9938515306676493, 0.9715807416981576, 0.9525516903963349, 0.9787365915199846, 0.9970751999376029, 0.9816231990325294, 0.9944405679156745, 0.998336438786125, 0.9960877897754563, 0.9994156514153013, 0.999117468522018, 0.9992268666590282, 0.9977431280030836, 0.9998573165419397, 0.9170770155634536, 0.9997298263008483, 0.979512465301798, 0.47119462703048304, 0.9995154323173877, 0.9936350106939003, 0.9988279606210195, 0.9760820308063884, 0.9966911265806215, 0.9951183324133865, 0.9995297504423972, 0.9969908999461298, 0.9942309794704473, 0.9996322868033163, 0.9964563214122798, 0.999269901812065, 0.9977027249906225, 0.870939505018848, 0.9986484720949187, 0.9992526955012035, 0.9679753688337314, 0.9990281096061443, 0.9982409568138619, 0.9990472577214249, 0.998659958747353, 0.9821817486590179, 0.9997186220462215, 0.984414428460083, 0.998630527104167, 0.998374676327115, 0.9859256004401115, 0.999339792698807, 0.998464429922281, 0.9966158242727859, 0.9877860211644289, 0.9929309505836498, 0.9958421884704999, 0.9981185718090668, 0.9978363492143981, 0.9956914550446693, 0.9967749652404388, 0.9937929413593048, 0.998457638876541, 0.996073896409377, 0.9968188758664901, 0.9988454331478501, 0.9981065119849117, 0.9861096876170055, 0.9961734524488456, 0.9976222495909882, 0.9372787836733754, 0.9992107042562335, 0.9947247603780399, 0.9978501714999124, 0.9997557460455466, 0.998735547919372, 0.9769100137801607, 0.5979586068219703, 0.9971925786788592, 0.4024712976935419, 0.9906315347991833, 0.9974615304681693, 0.9992650524524365, 0.9928353242874408, 0.3616439807342238, 0.9960772826421809, 0.9996015408130966, 0.9991948518118389, 0.7907317516103698, 0.9997013625357691, 0.9922276159390724, 0.9852015546901103, 0.9818481147564522, 0.9971748490132268, 0.9655053841285617, 0.9998873578645229, 0.9976255326169419, 0.9966880861846883, 0.9997508581952425, 0.9945412682087943, 0.9977261671583398, 0.9674906871050357, 0.9351250384863203, 0.9928417767060171, 0.9980106540494832, 0.998700181972223, 0.964390372277498, 0.9997489563141363, 0.9997592065712965, 0.9993255842413483, 0.9309211925616593, 0.9957568537389915, 0.9948403065721116, 0.9998657302438347, 0.988224696167017, 0.9960767179336999, 0.9968452891168852, 0.9977015664754211, 0.9949656960270764, 0.9999095568869496, 0.9910280440820927, 0.9990639246000892, 0.9998124515687458, 0.9986175542231703, 0.9623882301992499, 0.9926923241918278], \"Term\": [\"ability\", \"able\", \"access\", \"actually\", \"ad\", \"additional\", \"advertise\", \"affordable\", \"age\", \"allow\", \"almost\", \"alot\", \"already\", \"also\", \"alternative\", \"always\", \"amazing\", \"amount\", \"android\", \"annoy\", \"anymore\", \"app\", \"application\", \"apps\", \"area\", \"around\", \"audio\", \"available\", \"awesome\", \"back\", \"bad\", \"bargain\", \"base\", \"basic\", \"basically\", \"be\", \"beat\", \"bed\", \"beginner\", \"believe\", \"benefit\", \"big\", \"birthday\", \"black\", \"book\", \"brand\", \"break\", \"buck\", \"build\", \"bulky\", \"buy\", \"camera\", \"can\", \"capability\", \"capacity\", \"card\", \"carry\", \"casual\", \"charge\", \"cheap\", \"check\", \"child\", \"choice\", \"choose\", \"clear\", \"color\", \"come\", \"compact\", \"complaint\", \"connect\", \"consider\", \"contact\", \"content\", \"control\", \"cost\", \"could\", \"create\", \"crisp\", \"daily\", \"daughter\", \"day\", \"deal\", \"decent\", \"definitely\", \"depend\", \"desire\", \"device\", \"die\", \"disappoint\", \"disappointed\", \"display\", \"dollar\", \"download\", \"durable\", \"ease\", \"easily\", \"easy\", \"ebook\", \"elderly\", \"electronic\", \"email\", \"enjoy\", \"enough\", \"entertainment\", \"especially\", \"even\", \"ever\", \"exactly\", \"excellent\", \"expandable\", \"expect\", \"expensive\", \"experience\", \"extra\", \"fact\", \"fail\", \"family\", \"fan\", \"fantastic\", \"far\", \"fast\", \"feature\", \"feel\", \"figure\", \"file\", \"finally\", \"find\", \"fine\", \"fire\", \"first\", \"flexibility\", \"fraction\", \"freeze\", \"friend\", \"full\", \"fun\", \"function\", \"game\", \"generation\", \"get\", \"gift\", \"give\", \"go\", \"good\", \"granddaughter\", \"grandmother\", \"graphic\", \"great\", \"hand\", \"happy\", \"hard\", \"have\", \"hd\", \"help\", \"high\", \"highly\", \"hold\", \"hope\", \"however\", \"huge\", \"husband\", \"image\", \"important\", \"inch\", \"inexpensive\", \"instal\", \"install\", \"instruction\", \"internet\", \"ipad\", \"issue\", \"job\", \"keep\", \"kid\", \"kind\", \"kindle\", \"know\", \"large\", \"last\", \"late\", \"learn\", \"learning\", \"least\", \"leave\", \"library\", \"life\", \"light\", \"like\", \"limit\", \"limited\", \"link\", \"listen\", \"little\", \"load\", \"lol\", \"long\", \"look\", \"lose\", \"lot\", \"love\", \"mail\", \"mainly\", \"make\", \"many\", \"may\", \"mean\", \"meet\", \"member\", \"memory\", \"model\", \"moment\", \"money\", \"monitor\", \"movie\", \"much\", \"music\", \"name\", \"navigate\", \"need\", \"negative\", \"never\", \"new\", \"next\", \"nice\", \"night\", \"non\", \"offer\", \"old\", \"one\", \"online\", \"option\", \"overall\", \"pack\", \"pad\", \"pay\", \"people\", \"perfect\", \"perform\", \"person\", \"personal\", \"phone\", \"photo\", \"pic\", \"picture\", \"place\", \"plan\", \"play\", \"playback\", \"playing\", \"plenty\", \"point\", \"pop\", \"popular\", \"portability\", \"portable\", \"possible\", \"present\", \"pretty\", \"previous\", \"price\", \"prime\", \"problem\", \"processor\", \"product\", \"profile\", \"purchase\", \"purpose\", \"purse\", \"quality\", \"quickly\", \"read\", \"reader\", \"reading\", \"real\", \"really\", \"reason\", \"receive\", \"recommend\", \"regular\", \"right\", \"run\", \"safe\", \"sale\", \"say\", \"school\", \"screen\", \"second\", \"see\", \"seem\", \"serve\", \"set\", \"setting\", \"setup\", \"several\", \"sharp\", \"show\", \"simple\", \"simply\", \"site\", \"size\", \"slow\", \"small\", \"smooth\", \"solid\", \"sometimes\", \"son\", \"sound\", \"space\", \"speaker\", \"speed\", \"spend\", \"stand\", \"star\", \"start\", \"steal\", \"still\", \"storage\", \"store\", \"stream\", \"sure\", \"surf\", \"surfing\", \"switch\", \"tab\", \"table\", \"tablet\", \"take\", \"tech\", \"teen\", \"thank\", \"thing\", \"think\", \"thrill\", \"time\", \"tired\", \"tool\", \"transfer\", \"travel\", \"trip\", \"tv\", \"type\", \"update\", \"use\", \"useful\", \"user\", \"usually\", \"vacation\", \"value\", \"version\", \"video\", \"visit\", \"want\", \"watch\", \"way\", \"web\", \"week\", \"weight\", \"well\", \"white\", \"whole\", \"wife\", \"wish\", \"wonderful\", \"work\", \"worry\", \"worth\", \"would\", \"year\", \"young\", \"youtube\"]}, \"R\": 30, \"lambda.step\": 0.01, \"plot.opts\": {\"xlab\": \"PC1\", \"ylab\": \"PC2\"}, \"topic.order\": [4, 10, 8, 13, 5, 17, 16, 9, 7, 3, 18, 11, 1, 2, 14, 20, 6, 12, 19, 15]};\n",
       "\n",
       "function LDAvis_load_lib(url, callback){\n",
       "  var s = document.createElement('script');\n",
       "  s.src = url;\n",
       "  s.async = true;\n",
       "  s.onreadystatechange = s.onload = callback;\n",
       "  s.onerror = function(){console.warn(\"failed to load library \" + url);};\n",
       "  document.getElementsByTagName(\"head\")[0].appendChild(s);\n",
       "}\n",
       "\n",
       "if(typeof(LDAvis) !== \"undefined\"){\n",
       "   // already loaded: just create the visualization\n",
       "   !function(LDAvis){\n",
       "       new LDAvis(\"#\" + \"ldavis_el324822286788054487429299640\", ldavis_el324822286788054487429299640_data);\n",
       "   }(LDAvis);\n",
       "}else if(typeof define === \"function\" && define.amd){\n",
       "   // require.js is available: use it to load d3/LDAvis\n",
       "   require.config({paths: {d3: \"https://cdnjs.cloudflare.com/ajax/libs/d3/3.5.5/d3.min\"}});\n",
       "   require([\"d3\"], function(d3){\n",
       "      window.d3 = d3;\n",
       "      LDAvis_load_lib(\"https://cdn.rawgit.com/bmabey/pyLDAvis/files/ldavis.v1.0.0.js\", function(){\n",
       "        new LDAvis(\"#\" + \"ldavis_el324822286788054487429299640\", ldavis_el324822286788054487429299640_data);\n",
       "      });\n",
       "    });\n",
       "}else{\n",
       "    // require.js not available: dynamically load d3 & LDAvis\n",
       "    LDAvis_load_lib(\"https://cdnjs.cloudflare.com/ajax/libs/d3/3.5.5/d3.min.js\", function(){\n",
       "         LDAvis_load_lib(\"https://cdn.rawgit.com/bmabey/pyLDAvis/files/ldavis.v1.0.0.js\", function(){\n",
       "                 new LDAvis(\"#\" + \"ldavis_el324822286788054487429299640\", ldavis_el324822286788054487429299640_data);\n",
       "            })\n",
       "         });\n",
       "}\n",
       "</script>"
      ],
      "text/plain": [
       "PreparedData(topic_coordinates=              x         y  topics  cluster       Freq\n",
       "topic                                                \n",
       "3      0.314325  0.340947       1        1  14.296771\n",
       "9      0.191907 -0.285373       2        1  12.341995\n",
       "7      0.163349 -0.156295       3        1   8.105242\n",
       "12     0.135538 -0.090107       4        1   5.669521\n",
       "4     -0.018035  0.006998       5        1   5.596469\n",
       "16    -0.045233  0.012306       6        1   5.046657\n",
       "15    -0.030821  0.009884       7        1   4.798176\n",
       "8     -0.028482  0.008838       8        1   4.281963\n",
       "6     -0.018828  0.007098       9        1   4.008282\n",
       "2     -0.027123  0.008515      10        1   3.981565\n",
       "17    -0.016352  0.006039      11        1   3.890644\n",
       "10    -0.042866  0.012443      12        1   3.803529\n",
       "0     -0.064035  0.015866      13        1   3.718542\n",
       "1     -0.082121  0.018507      14        1   3.308815\n",
       "13    -0.081137  0.018423      15        1   3.261670\n",
       "19    -0.083480  0.018540      16        1   3.081560\n",
       "5     -0.107035  0.021152      17        1   2.865479\n",
       "11    -0.128127  0.022190      18        1   2.767109\n",
       "18    -0.072045  0.016883      19        1   2.691864\n",
       "14     0.040599 -0.012856      20        1   2.484147, topic_info=         Term          Freq         Total Category  logprob  loglift\n",
       "476        tv  13680.000000  13680.000000  Default  30.0000  30.0000\n",
       "36      great  16227.000000  16227.000000  Default  29.0000  29.0000\n",
       "75       good   9210.000000   9210.000000  Default  28.0000  28.0000\n",
       "109      easy   8118.000000   8118.000000  Default  27.0000  27.0000\n",
       "9     product   6602.000000   6602.000000  Default  26.0000  26.0000\n",
       "...       ...           ...           ...      ...      ...      ...\n",
       "708     alexa      0.031731      1.472799  Topic20 -12.7283  -0.1424\n",
       "591      item      0.031731      1.472804  Topic20 -12.7283  -0.1424\n",
       "508      free      0.031732      1.472901  Topic20 -12.7283  -0.1424\n",
       "1278   search      0.031730      1.472562  Topic20 -12.7284  -0.1423\n",
       "976     smart      0.031730      1.472546  Topic20 -12.7284  -0.1422\n",
       "\n",
       "[905 rows x 6 columns], token_table=      Topic      Freq      Term\n",
       "term                           \n",
       "0        12  0.998356   ability\n",
       "20       12  0.999188      able\n",
       "21       14  0.998998    access\n",
       "266      19  0.997180  actually\n",
       "134       9  0.967660        ad\n",
       "...     ...       ...       ...\n",
       "108      10  0.999064     worth\n",
       "101       1  0.999812     would\n",
       "246       5  0.998618      year\n",
       "461      14  0.962388     young\n",
       "380      17  0.992692   youtube\n",
       "\n",
       "[370 rows x 3 columns], R=30, lambda_step=0.01, plot_opts={'xlab': 'PC1', 'ylab': 'PC2'}, topic_order=[4, 10, 8, 13, 5, 17, 16, 9, 7, 3, 18, 11, 1, 2, 14, 20, 6, 12, 19, 15])"
      ]
     },
     "execution_count": 31,
     "metadata": {},
     "output_type": "execute_result"
    }
   ],
   "source": [
    "#Visualize the topics-keywords\n",
    "# Visualize the topics\n",
    "pyLDAvis.enable_notebook()\n",
    "vis = pyLDAvis.gensim.prepare(lda_model, corpus, id2word)\n",
    "vis"
   ]
  },
  {
   "cell_type": "markdown",
   "metadata": {},
   "source": [
    "### Building LDA Mallet Model"
   ]
  },
  {
   "cell_type": "code",
   "execution_count": 65,
   "metadata": {},
   "outputs": [
    {
     "data": {
      "text/plain": [
       "<module 'ntpath' from 'C:\\\\Users\\\\Trishul Chowdhury\\\\anaconda3\\\\envs\\\\tensorflow\\\\lib\\\\ntpath.py'>"
      ]
     },
     "execution_count": 65,
     "metadata": {},
     "output_type": "execute_result"
    }
   ],
   "source": [
    "import os\n",
    "os.path"
   ]
  },
  {
   "cell_type": "code",
   "execution_count": 84,
   "metadata": {},
   "outputs": [],
   "source": [
    "import os\n",
    "from gensim.models.wrappers import LdaMallet\n",
    "os.environ.update({'MALLET_HOME':r'C:\\mallet'})\n",
    "mallet_path = r'c:\\mallet\\bin\\mallet.bat' # update this path"
   ]
  },
  {
   "cell_type": "code",
   "execution_count": 85,
   "metadata": {},
   "outputs": [],
   "source": [
    "ldamallet = gensim.models.wrappers.LdaMallet(mallet_path, corpus=corpus, num_topics=20, id2word=id2word)"
   ]
  },
  {
   "cell_type": "code",
   "execution_count": 86,
   "metadata": {},
   "outputs": [
    {
     "name": "stdout",
     "output_type": "stream",
     "text": [
      "[(18,\n",
      "  [('long', 0.05335348785130445),\n",
      "   ('charge', 0.0447878177135819),\n",
      "   ('time', 0.04215653342290897),\n",
      "   ('battery', 0.03510245213301982),\n",
      "   ('case', 0.03224722875377897),\n",
      "   ('kindle', 0.02737655357742694),\n",
      "   ('day', 0.022337924084648974),\n",
      "   ('week', 0.022113984996081065),\n",
      "   ('back', 0.021050274325383495),\n",
      "   ('cover', 0.020210502743253835)]),\n",
      " (15,\n",
      "  [('screen', 0.07484636798151163),\n",
      "   ('kindle', 0.05998214191921845),\n",
      "   ('turn', 0.03513840012605704),\n",
      "   ('light', 0.03214454540679657),\n",
      "   ('hand', 0.02542150323021167),\n",
      "   ('page', 0.024738694259152268),\n",
      "   ('model', 0.021534744471873524),\n",
      "   ('paperwhite', 0.020799411733809548),\n",
      "   ('feel', 0.020379221597772994),\n",
      "   ('touch', 0.018173223383581072)]),\n",
      " (0,\n",
      "  [('purchase', 0.24176727134820808),\n",
      "   ('enjoy', 0.09904557234056001),\n",
      "   ('happy', 0.06769483597749826),\n",
      "   ('family', 0.05764490234498451),\n",
      "   ('item', 0.05549585993300044),\n",
      "   ('learn', 0.04898552556728399),\n",
      "   ('friend', 0.0424119840718033),\n",
      "   ('day', 0.034953542759623285),\n",
      "   ('wife', 0.025725301814044626),\n",
      "   ('recommend', 0.019594210226913596)]),\n",
      " (11,\n",
      "  [('music', 0.1294033753268362),\n",
      "   ('echo', 0.07178512003803185),\n",
      "   ('alexa', 0.06745899690991206),\n",
      "   ('play', 0.050677442357974806),\n",
      "   ('question', 0.040836700736867126),\n",
      "   ('weather', 0.03332541003090088),\n",
      "   ('listen', 0.030758260042785833),\n",
      "   ('answer', 0.026764915616829095),\n",
      "   ('news', 0.021820774898977893),\n",
      "   ('dot', 0.021250297123841216)]),\n",
      " (5,\n",
      "  [('tablet', 0.24554070759992935),\n",
      "   ('price', 0.2318832048036734),\n",
      "   ('good', 0.20892447165479483),\n",
      "   ('deal', 0.030081827279684465),\n",
      "   ('low', 0.027079531406369577),\n",
      "   ('beat', 0.025902160475657857),\n",
      "   ('basic', 0.025313475010301997),\n",
      "   ('sale', 0.020309648554777182),\n",
      "   ('great', 0.01754282686760464),\n",
      "   ('affordable', 0.014363925354682993)]),\n",
      " (17,\n",
      "  [('good', 0.16707065810204824),\n",
      "   ('quality', 0.08144467337292449),\n",
      "   ('sound', 0.07502120955035753),\n",
      "   ('money', 0.05387225790813235),\n",
      "   ('worth', 0.05059992728154163),\n",
      "   ('speaker', 0.048539570961095624),\n",
      "   ('amazing', 0.048539570961095624),\n",
      "   ('pretty', 0.035753242031268936),\n",
      "   ('spend', 0.02211853108714095),\n",
      "   ('feature', 0.02175493879529754)]),\n",
      " (14,\n",
      "  [('fire', 0.18784029038112524),\n",
      "   ('tv', 0.12640119568698624),\n",
      "   ('fast', 0.06629657307569126),\n",
      "   ('cable', 0.04526529305006939),\n",
      "   ('stream', 0.04024767801857585),\n",
      "   ('stick', 0.034909789687199745),\n",
      "   ('box', 0.034322621970748375),\n",
      "   ('streaming', 0.02877121810611722),\n",
      "   ('remote', 0.026582683890253016),\n",
      "   ('content', 0.024661044090957616)]),\n",
      " (13,\n",
      "  [('device', 0.17527821939586646),\n",
      "   ('control', 0.043379513967749264),\n",
      "   ('home', 0.037758346581876),\n",
      "   ('connect', 0.032534635475811945),\n",
      "   ('smart', 0.029809220985691574),\n",
      "   ('option', 0.028673631614808084),\n",
      "   ('prime', 0.028162616397910515),\n",
      "   ('make', 0.023336361571655688),\n",
      "   ('unit', 0.021860095389507155),\n",
      "   ('voice', 0.021121962298432887)]),\n",
      " (10,\n",
      "  [('great', 0.20817912657290896),\n",
      "   ('kid', 0.1805452751048606),\n",
      "   ('tablet', 0.17456205280039477),\n",
      "   ('child', 0.0537873180360227),\n",
      "   ('young', 0.018258080434246236),\n",
      "   ('age', 0.01782630150505798),\n",
      "   ('inexpensive', 0.01622255119664446),\n",
      "   ('parent', 0.013693560325684678),\n",
      "   ('durable', 0.013385146804835924),\n",
      "   ('adult', 0.01233654083395016)]),\n",
      " (6,\n",
      "  [('easy', 0.3987333755541482),\n",
      "   ('set', 0.11975934135528815),\n",
      "   ('make', 0.08271057631412286),\n",
      "   ('setup', 0.03451551614946168),\n",
      "   ('navigate', 0.024382520582647244),\n",
      "   ('convenient', 0.02064597846738442),\n",
      "   ('super', 0.02039265357821406),\n",
      "   ('user_friendly', 0.019379354021532614),\n",
      "   ('ease', 0.019316022799240027),\n",
      "   ('system', 0.01500949968334389)])]\n"
     ]
    }
   ],
   "source": [
    "# Show Topics\n",
    "pprint(ldamallet.show_topics(formatted=False))"
   ]
  },
  {
   "cell_type": "code",
   "execution_count": 87,
   "metadata": {},
   "outputs": [
    {
     "name": "stdout",
     "output_type": "stream",
     "text": [
      "\n",
      "Coherence Score:  0.5766526924705814\n"
     ]
    }
   ],
   "source": [
    "# Compute Coherence Score\n",
    "coherence_model_ldamallet = CoherenceModel(model=ldamallet, texts=data_lemmatized, dictionary=id2word, coherence='c_v')\n",
    "coherence_ldamallet = coherence_model_ldamallet.get_coherence()\n",
    "print('\\nCoherence Score: ', coherence_ldamallet)"
   ]
  },
  {
   "cell_type": "code",
   "execution_count": null,
   "metadata": {},
   "outputs": [],
   "source": []
  }
 ],
 "metadata": {
  "kernelspec": {
   "display_name": "Python 3",
   "language": "python",
   "name": "python3"
  },
  "language_info": {
   "codemirror_mode": {
    "name": "ipython",
    "version": 3
   },
   "file_extension": ".py",
   "mimetype": "text/x-python",
   "name": "python",
   "nbconvert_exporter": "python",
   "pygments_lexer": "ipython3",
   "version": "3.7.9"
  }
 },
 "nbformat": 4,
 "nbformat_minor": 4
}
